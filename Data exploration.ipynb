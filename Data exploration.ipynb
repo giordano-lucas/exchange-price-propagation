{
 "cells": [
  {
   "cell_type": "code",
   "execution_count": 26,
   "metadata": {},
   "outputs": [],
   "source": [
    "import pandas as pd\n",
    "import dask\n",
    "dask.config.set(scheduler=\"processes\")\n",
    "import matplotlib.pyplot as plt\n",
    "import numpy as np\n",
    "import re\n",
    "import glob"
   ]
  },
  {
   "cell_type": "markdown",
   "metadata": {},
   "source": [
    "# Loading the data"
   ]
  },
  {
   "cell_type": "code",
   "execution_count": 206,
   "metadata": {},
   "outputs": [
    {
     "name": "stdout",
     "output_type": "stream",
     "text": [
      "signal : bbo,  #files : 251, stock: MSFT, market:B\n"
     ]
    }
   ],
   "source": [
    "signal = \"bbo\"\n",
    "stock = \"MSFT\"\n",
    "market = \"B\"\n",
    "markets=[\"B\",\"C\",\"DF\",\"II\",\"MW\",\"O\",\"OQ\",\"P\"]\n",
    "\n",
    "files = glob.glob(f\"./Data/{signal}\\\\{stock}.{market}\\\\*.csv.gz\")\n",
    "\n",
    "print(f\"signal : {signal},  #files : {len(files)}, stock: {stock}, market:{market}\")\n",
    "\n",
    "def convert_time(df):\n",
    "    df.index = pd.to_datetime(df[\"xltime\"],unit=\"d\",origin=\"1899-12-30\",utc=True)\n",
    "    return df\n",
    "# open_time  = \"09:30:00\"\n",
    "# close_time = \"16:00:00\"\n",
    "def load_trade_file(file):\n",
    "    res = pd.read_csv(file,compression=\"gzip\")\n",
    "    res = convert_time(res)\n",
    "    res = res[res[\"trade-stringflag\"] == \"uncategorized\"]\n",
    "    return res[\"trade-price\"]\n",
    "\n",
    "def load_bbo_file(file):\n",
    "    res = pd.read_csv(file,compression=\"gzip\").rename(columns={\"bid-price\":\"bid\"})\n",
    "    res = convert_time(res)\n",
    "    res = res[res.bid>0]\n",
    "    #res = res.bid.diff(1).dropna()>0 \n",
    "    return res[[\"bid\"]]\n",
    "\n",
    "def load_daily_data(date):\n",
    "    daily_data = {}\n",
    "    for market in markets:\n",
    "        try : \n",
    "            path = glob.glob(f\"./Data/{signal}\\\\{stock}.{market}\\\\{date}*.csv.gz\")[0]\n",
    "            daily_data[market] = load_bbo_file(path)\n",
    "        except :\n",
    "            print(f\"missing data : {date} {market}\")\n",
    "    return daily_data"
   ]
  },
  {
   "cell_type": "code",
   "execution_count": 243,
   "metadata": {},
   "outputs": [],
   "source": [
    "date = '2010-01-04'\n",
    "daily_data = load_daily_data(date)"
   ]
  },
  {
   "cell_type": "markdown",
   "metadata": {},
   "source": [
    "# Correlation computation"
   ]
  },
  {
   "cell_type": "code",
   "execution_count": 244,
   "metadata": {},
   "outputs": [],
   "source": [
    "market1_name = \"B\"\n",
    "market2_name = \"C\"\n",
    "pair_name = f\"{market1_name}_{market2_name}\""
   ]
  },
  {
   "cell_type": "code",
   "execution_count": 248,
   "metadata": {},
   "outputs": [],
   "source": [
    "def compute_correlation(daily_data,market1_name,market2_name,delay):\n",
    "    market1_data = daily_data[market1_name].copy()\n",
    "    market2_data = daily_data[market2_name].copy()\n",
    "    \n",
    "    market1_data.index = market1_data.index + +pd.Timedelta(microseconds=delay)\n",
    "    \n",
    "    pair_data = market1_data.join(market2_data,how = \"outer\",lsuffix=\"_1\",rsuffix=\"_2\").ffill().dropna()\n",
    "    \n",
    "    corr = np.corrcoef(pair_data[\"bid_1\"].values, pair_data[\"bid_2\"].values)[0][1]\n",
    "    \n",
    "    return corr"
   ]
  },
  {
   "cell_type": "code",
   "execution_count": 260,
   "metadata": {},
   "outputs": [],
   "source": [
    "step = 1000 #ms\n",
    "delays = range(-100*step,100*step,step)\n",
    "correlations = []\n",
    "for delay in delays:\n",
    "    corr = compute_correlation(daily_data,market1_name,market2_name,delay)\n",
    "    correlations.append(corr)"
   ]
  },
  {
   "cell_type": "markdown",
   "metadata": {},
   "source": [
    "# Visu"
   ]
  },
  {
   "cell_type": "code",
   "execution_count": 261,
   "metadata": {},
   "outputs": [
    {
     "data": {
      "text/plain": [
       "[<matplotlib.lines.Line2D at 0x1fb0a3cee50>]"
      ]
     },
     "execution_count": 261,
     "metadata": {},
     "output_type": "execute_result"
    },
    {
     "data": {
      "image/png": "[encoded data removed]",
      "text/plain": [
       "<Figure size 432x288 with 1 Axes>"
      ]
     },
     "metadata": {
      "needs_background": "light"
     },
     "output_type": "display_data"
    }
   ],
   "source": [
    "plt.plot(correlations)"
   ]
  },
  {
   "cell_type": "code",
   "execution_count": null,
   "metadata": {},
   "outputs": [],
   "source": []
  }
 ],
 "metadata": {
  "kernelspec": {
   "display_name": "Python 3 (ipykernel)",
   "language": "python",
   "name": "python3"
  },
  "language_info": {
   "codemirror_mode": {
    "name": "ipython",
    "version": 3
   },
   "file_extension": ".py",
   "mimetype": "text/x-python",
   "name": "python",
   "nbconvert_exporter": "python",
   "pygments_lexer": "ipython3",
   "version": "3.9.7"
  }
 },
 "nbformat": 4,
 "nbformat_minor": 4
}
