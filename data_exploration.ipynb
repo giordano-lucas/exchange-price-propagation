{
 "cells": [
  {
   "cell_type": "code",
   "execution_count": 1,
   "metadata": {},
   "outputs": [],
   "source": [
    "import pandas as pd\n",
    "import dask\n",
    "dask.config.set(scheduler=\"processes\")\n",
    "import matplotlib.pyplot as plt\n",
    "import glob\n",
    "import numpy as np\n",
    "import plotly.express as px\n",
    "import plotly.graph_objects as go\n",
    "from plotly.subplots import make_subplots\n",
    "from helpers import config\n",
    "%load_ext autoreload\n",
    "%autoreload 2"
   ]
  },
  {
   "cell_type": "markdown",
   "metadata": {},
   "source": [
    "# Loading the data"
   ]
  },
  {
   "cell_type": "markdown",
   "metadata": {},
   "source": [
    "work on a daily basis"
   ]
  },
  {
   "cell_type": "code",
   "execution_count": null,
   "metadata": {},
   "outputs": [],
   "source": [
    "location = \"NL\"\n",
    "date = config[\"test_date\"]\n"
   ]
  },
  {
   "cell_type": "code",
   "execution_count": null,
   "metadata": {},
   "outputs": [],
   "source": [
    "glob.glob(config['dir']['data']}/)"
   ]
  },
  {
   "cell_type": "code",
   "execution_count": null,
   "metadata": {},
   "outputs": [],
   "source": [
    "mkt_suffix = config[\"markets\"][location]\n",
    "path_expr = f\"{config['dir']['data']}/{location}/{config['signal']}/{config['stock']}.{mkt_suffix}/{date}*\"\n",
    "path_expr\n",
    "glob.glob(path_expr)\n"
   ]
  },
  {
   "cell_type": "code",
   "execution_count": null,
   "metadata": {},
   "outputs": [],
   "source": [
    "from helpers import config\n",
    "from helpers.loading import load_daily_data\n",
    "daily_data = load_daily_data(date, location, to_returns=True)\n"
   ]
  },
  {
   "cell_type": "code",
   "execution_count": null,
   "metadata": {},
   "outputs": [],
   "source": [
    "daily_data"
   ]
  },
  {
   "cell_type": "markdown",
   "metadata": {},
   "source": [
    "# simple data exploration"
   ]
  },
  {
   "cell_type": "code",
   "execution_count": null,
   "metadata": {},
   "outputs": [],
   "source": [
    "from helpers.plots import save_plot\n",
    "sizes = [len(v) for _,v in daily_data.items()]\n",
    "size_df = pd.DataFrame({'markets': daily_data.keys(), 'size': sizes})\n",
    "fig = px.bar(\n",
    "    size_df.sort_values('size'), \n",
    "    x='markets', y='size',\n",
    "    title=f\"Number of transaction per exchange ({config['test_date']})\"\n",
    ")\n",
    "save_plot(fig, \"nb_transaction_per_exchange\")\n",
    "fig.show()\n",
    "\n"
   ]
  },
  {
   "cell_type": "code",
   "execution_count": null,
   "metadata": {},
   "outputs": [],
   "source": [
    "from helpers.delay import generate_delayed_data\n",
    "N = len(config['markets'])\n",
    "joined_len_outer = np.zeros((N,N))\n",
    "joined_len_inner = np.zeros((N,N))\n",
    "for i,k1 in enumerate(daily_data):\n",
    "    for j,k2 in enumerate(daily_data):\n",
    "        s1,s2 = daily_data[k1].copy(),daily_data[k2].copy()\n",
    "        l_outer = len(generate_delayed_data(s1,s2,0))\n",
    "        l_inner = len(generate_delayed_data(s1,s2,0,join_type=\"inner\"))\n",
    "        joined_len_outer[i,j] = l_outer\n",
    "        joined_len_inner[i,j] = l_inner\n"
   ]
  },
  {
   "cell_type": "code",
   "execution_count": null,
   "metadata": {},
   "outputs": [],
   "source": [
    "fig = make_subplots(rows=1, cols=2, shared_yaxes=True,\n",
    "                    subplot_titles=[\"inner\", \"outer\"])\n",
    "fig.add_trace(\n",
    "    go.Heatmap(z=joined_len_inner, x=config['markets'], y=config['markets']),\n",
    "    row=1, col=1\n",
    ")\n",
    "\n",
    "fig.add_trace(\n",
    "    go.Heatmap(z=joined_len_outer, x=config['markets'], y=config['markets']),\n",
    "    row=1, col=2\n",
    ")\n",
    "fig.update_layout(height=600, width=800, title_text=\"Number of transaction in the joined data for all market pairs\")\n",
    "save_plot(fig, 'nb_transaction_join_market_pairs')\n",
    "fig.show()\n"
   ]
  },
  {
   "cell_type": "markdown",
   "metadata": {},
   "source": [
    "# Signal visu"
   ]
  },
  {
   "cell_type": "code",
   "execution_count": null,
   "metadata": {},
   "outputs": [],
   "source": [
    "from helpers.stats import compute_correlation\n",
    "from helpers.delay import generate_delayed_data\n",
    "\n",
    "def visualize_delay(n1,n2,delay,n_samples=1000):\n",
    "    s1,s2 = daily_data[n1],daily_data[n2]\n",
    "    pair_data = generate_delayed_data(s1,s2,delay)[:n_samples]\n",
    "    corr,_,_  = compute_correlation(pair_data)\n",
    "    \n",
    "    plt.plot(pair_data[\"trade-price_1\"])\n",
    "    plt.plot(pair_data[\"trade-price_2\"])\n",
    "    plt.title(f\"delay:{delay}ms, market1:{n1}, market2:{n2}, corr={corr:0.5f}\")\n",
    "    plt.show()"
   ]
  },
  {
   "cell_type": "code",
   "execution_count": null,
   "metadata": {},
   "outputs": [],
   "source": [
    "step = 100 #ms\n",
    "n_steps = 2\n",
    "delays = range(-n_steps*step, n_steps*step, step)\n",
    "for delay in delays:\n",
    "    visualize_delay(n1=\"DF\",n2=\"B\",delay=delay)"
   ]
  },
  {
   "cell_type": "markdown",
   "metadata": {},
   "source": [
    "# Demo"
   ]
  },
  {
   "cell_type": "code",
   "execution_count": null,
   "metadata": {},
   "outputs": [],
   "source": [
    "from helpers.delay import compute_delays\n",
    "from helpers.algorithm import  increasing_function_check\n",
    "def find_best_delay_demo(n1,n2):\n",
    "    n_iteration = 15\n",
    "    center      = 0\n",
    "    step_size   = 1000 #ms\n",
    "    last_best_delay = None\n",
    "    for it in range(n_iteration):\n",
    "        delays,correlations,los,his = compute_delays(daily_data,n1,n2,center=center,step_size=step_size)\n",
    "        best_delay = delays[np.argmax(correlations)]\n",
    "        if (last_best_delay is not None and last_best_delay==best_delay) or not step_size > 1:\n",
    "            break\n",
    "        \n",
    "        \n",
    "        last_best_delay = best_delay \n",
    "        center          = best_delay\n",
    "        \n",
    "        ######################\n",
    "        x = list(delays)\n",
    "        y = correlations\n",
    "        fig = go.Figure(data=go.Scatter(x=x,y=y,\n",
    "        error_y=dict(\n",
    "            type='data',\n",
    "            symmetric=False,\n",
    "            array=los,\n",
    "            arrayminus=his)\n",
    "        )\n",
    "        ,layout = go.Layout(autosize=False,width=800,height=500)               \n",
    "        )\n",
    "        title = f\"Correlation_vs_delay_window_iteration({it})_market({n1}_{n2})\"\n",
    "        fig.update_layout(\n",
    "        title=title,\n",
    "        xaxis_title=\"delay\",\n",
    "        yaxis_title=\"correlation\"\n",
    "        )\n",
    "        fig.write_html(f\"./Figures/{title}.html\",full_html=False, include_plotlyjs=False)\n",
    "        fig.show()\n",
    "        \n",
    "        print(f\"idx:{np.argmax(correlations)}, step_size:{step_size}, center:{center}\")\n",
    "        if increasing_function_check(correlations):\n",
    "            step_size = int(step_size*1.5)\n",
    "        else:\n",
    "            step_size = step_size//2\n",
    "        \n"
   ]
  },
  {
   "cell_type": "code",
   "execution_count": null,
   "metadata": {},
   "outputs": [],
   "source": [
    "find_best_delay_demo(\"DF\",\"O\")"
   ]
  },
  {
   "cell_type": "code",
   "execution_count": null,
   "metadata": {},
   "outputs": [],
   "source": [
    "find_best_delay_demo(\"B\",\"II\")"
   ]
  },
  {
   "cell_type": "markdown",
   "metadata": {},
   "source": [
    "# Visu"
   ]
  },
  {
   "cell_type": "code",
   "execution_count": null,
   "metadata": {},
   "outputs": [],
   "source": [
    "for i,k1 in enumerate(daily_data):\n",
    "    for j,k2 in enumerate(daily_data):\n",
    "        delays,correlations,los,his = compute_delays(daily_data,n1=k1,n2=k2,center=0,step_size=2000)\n",
    "        x = list(delays)\n",
    "        y = correlations\n",
    "        errors = [los,his]\n",
    "        plt.errorbar(x, y, yerr=errors, fmt='o')\n",
    "        plt.title(f\"{k1},{k2} ({delays[np.argmax(correlations)]})\")\n",
    "        plt.xlabel(\"delay\")\n",
    "        plt.ylabel(\"corr\")\n",
    "        plt.show()"
   ]
  },
  {
   "cell_type": "code",
   "execution_count": null,
   "metadata": {},
   "outputs": [],
   "source": [
    "for i,k1 in enumerate(daily_data):\n",
    "    for j,k2 in enumerate(daily_data):\n",
    "        best_delay,delays,correlations,los,his = find_best_delay(n1=k1,n2=k2)\n",
    "        x = list(delays)\n",
    "        y = correlations\n",
    "        errors = [los,his]\n",
    "        plt.errorbar(x, y, yerr=errors, fmt='o')\n",
    "        plt.title(f\"{k1},{k2},{best_delay}\")\n",
    "        plt.xlabel(\"delay\")\n",
    "        plt.ylabel(\"corr\")\n",
    "        plt.show()\n",
    "\n",
    "\n"
   ]
  },
  {
   "cell_type": "markdown",
   "metadata": {},
   "source": [
    "# Checks"
   ]
  },
  {
   "cell_type": "markdown",
   "metadata": {},
   "source": [
    "* sort by delay and vaidates with geo distance\n",
    "* moore's law"
   ]
  },
  {
   "cell_type": "code",
   "execution_count": null,
   "metadata": {},
   "outputs": [],
   "source": []
  }
 ],
 "metadata": {
  "kernelspec": {
   "display_name": "Python 3 (ipykernel)",
   "language": "python",
   "name": "python3"
  },
  "language_info": {
   "codemirror_mode": {
    "name": "ipython",
    "version": 3
   },
   "file_extension": ".py",
   "mimetype": "text/x-python",
   "name": "python",
   "nbconvert_exporter": "python",
   "pygments_lexer": "ipython3",
   "version": "3.9.7"
  }
 },
 "nbformat": 4,
 "nbformat_minor": 4
}
