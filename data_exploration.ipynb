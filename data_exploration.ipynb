{
 "cells": [
  {
   "cell_type": "code",
   "execution_count": null,
   "metadata": {},
   "outputs": [],
   "source": [
    "import pandas as pd\n",
    "import dask\n",
    "dask.config.set(scheduler=\"processes\")\n",
    "import matplotlib.pyplot as plt\n",
    "import glob\n",
    "import numpy as np\n",
    "import plotly.express as px\n",
    "import plotly.graph_objects as go\n",
    "from plotly.subplots import make_subplots\n",
    "from helpers import config\n",
    "%load_ext autoreload\n",
    "%autoreload 2"
   ]
  },
  {
   "cell_type": "markdown",
   "metadata": {},
   "source": [
    "# Loading the data"
   ]
  },
  {
   "cell_type": "markdown",
   "metadata": {},
   "source": [
    "work on a daily basis"
   ]
  },
  {
   "cell_type": "code",
   "execution_count": null,
   "metadata": {},
   "outputs": [],
   "source": [
    "location = \"NL\"\n",
    "date = config[\"test_date\"]\n",
    "config['markets']['list']\n",
    "date\n"
   ]
  },
  {
   "cell_type": "code",
   "execution_count": null,
   "metadata": {},
   "outputs": [],
   "source": [
    "from helpers import config\n",
    "from helpers.loading import load_daily_data\n",
    "daily_data = load_daily_data(date, preprocessing_steps=['numeric'])"
   ]
  },
  {
   "cell_type": "code",
   "execution_count": null,
   "metadata": {},
   "outputs": [],
   "source": [
    "daily_data['US'].reset_index().date.diff().median()"
   ]
  },
  {
   "cell_type": "code",
   "execution_count": null,
   "metadata": {},
   "outputs": [],
   "source": [
    "daily_data['NL'].reset_index().date.diff().median()\n"
   ]
  },
  {
   "cell_type": "markdown",
   "metadata": {},
   "source": [
    "# Data Exploration\n",
    "\n",
    "## Number of data points (transactions) per exchange"
   ]
  },
  {
   "cell_type": "code",
   "execution_count": null,
   "metadata": {},
   "outputs": [],
   "source": [
    "from helpers.plots import save_plot\n",
    "def nb_transaction_per_exchange():\n",
    "    sizes = [len(v) for _,v in daily_data.items()]\n",
    "    size_df = pd.DataFrame({'markets': daily_data.keys(), 'size': sizes})\n",
    "    fig = px.bar(\n",
    "        size_df.sort_values('size'), \n",
    "        x='markets', y='size',\n",
    "        title=f\"Number of transaction per exchange ({config['test_date']})\"\n",
    "    )\n",
    "    save_plot(fig, \"nb_transaction_per_exchange\")\n",
    "    fig.show()\n"
   ]
  },
  {
   "cell_type": "code",
   "execution_count": null,
   "metadata": {},
   "outputs": [],
   "source": [
    "from helpers.delay import generate_delayed_data\n",
    "\n",
    "def nb_transaction_join_market_pars():\n",
    "    N = len(config['markets']['list'])\n",
    "    joined_len_outer = np.zeros((N, N))\n",
    "    joined_len_inner = np.zeros((N, N))\n",
    "    for i, k1 in enumerate(daily_data):\n",
    "        for j, k2 in enumerate(daily_data):\n",
    "            s1, s2 = daily_data[k1].copy(), daily_data[k2].copy()\n",
    "            l_outer = len(generate_delayed_data(s1, s2, 0))\n",
    "            l_inner = len(generate_delayed_data(s1, s2, 0, join_type=\"inner\"))\n",
    "            joined_len_outer[i, j] = l_outer\n",
    "            joined_len_inner[i, j] = l_inner\n",
    "\n",
    "    def plot():\n",
    "        fig = make_subplots(rows=1, cols=2, shared_yaxes=True,\n",
    "                            subplot_titles=[\"inner\", \"outer\"])\n",
    "        fig.add_trace(\n",
    "            go.Heatmap(z=joined_len_inner,\n",
    "                    x=config['markets']['list'], y=config['markets']['list']),\n",
    "            row=1, col=1\n",
    "        )\n",
    "\n",
    "        fig.add_trace(\n",
    "            go.Heatmap(z=joined_len_outer,\n",
    "                    x=config['markets']['list'], y=config['markets']['list']),\n",
    "            row=1, col=2\n",
    "        )\n",
    "        fig.update_layout(height=600, width=800,\n",
    "                        title_text=\"Number of transaction in the joined data for all market pairs\")\n",
    "        save_plot(fig, 'nb_transaction_join_market_pairs')\n",
    "        fig.show()\n",
    "    \n",
    "    plot()\n"
   ]
  },
  {
   "cell_type": "code",
   "execution_count": null,
   "metadata": {},
   "outputs": [],
   "source": [
    "#nb_transaction_per_exchange()\n",
    "#nb_transaction_join_market_pars()"
   ]
  },
  {
   "cell_type": "markdown",
   "metadata": {},
   "source": [
    "# Signal visu"
   ]
  },
  {
   "cell_type": "code",
   "execution_count": null,
   "metadata": {},
   "outputs": [],
   "source": [
    "from helpers.stats import compute_correlation\n",
    "from helpers.delay import compute_delays\n",
    "\n",
    "def format_delay_df(n1, n2):\n",
    "    delays, correlations, _, _ = compute_delays(\n",
    "        daily_data, n1, n2, step_size=1000, n_step=10\n",
    "    )\n",
    "    N, D = daily_data[n1].shape[0], len(delays)\n",
    "    df = pd.DataFrame(columns=[n1,  n2, 'delay', 'correlation'])\n",
    "    for i, (delay, correlation) in enumerate(zip(delays, correlations)):\n",
    "        s1, s2 = daily_data[n1].copy(), daily_data[n2].copy()\n",
    "        pair_data = generate_delayed_data(s1, s2, delay).reset_index()\n",
    "        pair_data.price_1 = (pair_data.price_1 -\n",
    "                             pair_data.price_1.median())/pair_data.price_1.std()\n",
    "        pair_data.price_2 = (pair_data.price_2 - pair_data.price_2.median())/pair_data.price_2.std()\n",
    "        pair_data = pair_data.rename(\n",
    "            columns={'price_1': n1, 'price_2': n2})\n",
    "        pair_data['delay'] = delay\n",
    "        pair_data['correlation'] = correlation\n",
    "        df = pd.concat((df, pair_data), axis=0, ignore_index=True)\n",
    "\n",
    "    df.delay = df.delay//1000\n",
    "    return pd.melt(df, id_vars=['date', 'delay', 'correlation'], value_vars=[\n",
    "        n1, n2], var_name='market', value_name='price')\n",
    "\n",
    "\n",
    "def visualize_delay(n1=\"US\", n2=\"NL\"):\n",
    "    import plotly.io as pio\n",
    "    pio.renderers.default = 'notebook_connected'\n",
    "\n",
    "    delay_df = format_delay_df(n1, n2)\n",
    "    fig = px.line(delay_df, x=\"date\", y='price',\n",
    "                animation_frame=\"delay\", animation_group='market',\n",
    "                color=\"market\",\n",
    "                hover_name='correlation', hover_data={'date': False,  'delay': False, 'market': False, 'price': False},\n",
    "                title=f\"Animation of trade prices and the correlation (see hover) for different delay (in seconds)\"\n",
    "                )\n",
    "\n",
    "    fig.update_layout(hovermode=\"x unified\")\n",
    "    fig.show()\n"
   ]
  },
  {
   "cell_type": "code",
   "execution_count": null,
   "metadata": {},
   "outputs": [],
   "source": [
    "visualize_delay()\n"
   ]
  },
  {
   "cell_type": "markdown",
   "metadata": {},
   "source": [
    "# Demo"
   ]
  },
  {
   "cell_type": "code",
   "execution_count": null,
   "metadata": {},
   "outputs": [],
   "source": [
    "from helpers.delay import compute_delays\n",
    "from helpers.algorithm import  increasing_function_check\n",
    "def find_best_delay_demo(n1,n2):\n",
    "    n_iteration = 15\n",
    "    center      = 0\n",
    "    step_size   = 1000 #ms\n",
    "    last_best_delay = None\n",
    "    for it in range(n_iteration):\n",
    "        delays,correlations,los,his = compute_delays(daily_data,n1,n2,center=center,step_size=step_size)\n",
    "        best_delay = delays[np.argmax(correlations)]\n",
    "        if (last_best_delay is not None and last_best_delay==best_delay) or not step_size > 1:\n",
    "            break\n",
    "        \n",
    "        \n",
    "        last_best_delay = best_delay \n",
    "        center          = best_delay\n",
    "        \n",
    "        ######################\n",
    "        x = list(delays)\n",
    "        y = correlations\n",
    "        fig = go.Figure(data=go.Scatter(x=x,y=y,\n",
    "        error_y=dict(\n",
    "            type='data',\n",
    "            symmetric=False,\n",
    "            array=los,\n",
    "            arrayminus=his)\n",
    "        )\n",
    "        ,layout = go.Layout(autosize=False,width=800,height=500)               \n",
    "        )\n",
    "        title = f\"Correlation_vs_delay_window_iteration({it})_market({n1}_{n2})\"\n",
    "        fig.update_layout(\n",
    "        title=title,\n",
    "        xaxis_title=\"delay\",\n",
    "        yaxis_title=\"correlation\"\n",
    "        )\n",
    "        fig.write_html(f\"./Figures/{title}.html\",full_html=False, include_plotlyjs=False)\n",
    "        fig.show()\n",
    "        \n",
    "        print(f\"idx:{np.argmax(correlations)}, step_size:{step_size}, center:{center}\")\n",
    "        if increasing_function_check(correlations):\n",
    "            step_size = int(step_size*1.5)\n",
    "        else:\n",
    "            step_size = step_size//2\n",
    "        \n"
   ]
  },
  {
   "cell_type": "code",
   "execution_count": null,
   "metadata": {},
   "outputs": [],
   "source": [
    "find_best_delay_demo(\"NL\",\"US\")"
   ]
  },
  {
   "cell_type": "code",
   "execution_count": null,
   "metadata": {},
   "outputs": [],
   "source": [
    "find_best_delay_demo(\"US\",\"GB\")"
   ]
  },
  {
   "cell_type": "markdown",
   "metadata": {},
   "source": [
    "# Visu"
   ]
  },
  {
   "cell_type": "code",
   "execution_count": null,
   "metadata": {},
   "outputs": [],
   "source": [
    "for i,k1 in enumerate(daily_data):\n",
    "    for j,k2 in enumerate(daily_data):\n",
    "        delays,correlations,los,his = compute_delays(daily_data,n1=k1,n2=k2,center=0,step_size=100)\n",
    "        x = list(delays)\n",
    "        y = correlations\n",
    "        errors = [los,his]\n",
    "        plt.errorbar(x, y, yerr=errors, fmt='o')\n",
    "        plt.title(f\"{k1},{k2} ({delays[np.argmax(correlations)]})\")\n",
    "        plt.xlabel(\"delay\")\n",
    "        plt.ylabel(\"corr\")\n",
    "        plt.show()"
   ]
  },
  {
   "cell_type": "code",
   "execution_count": null,
   "metadata": {},
   "outputs": [],
   "source": [
    "for i,k1 in enumerate(daily_data):\n",
    "    for j,k2 in enumerate(daily_data):\n",
    "        best_delay,delays,correlations,los,his = find_best_delay(n1=k1,n2=k2)\n",
    "        x = list(delays)\n",
    "        y = correlations\n",
    "        errors = [los,his]\n",
    "        plt.errorbar(x, y, yerr=errors, fmt='o')\n",
    "        plt.title(f\"{k1},{k2},{best_delay}\")\n",
    "        plt.xlabel(\"delay\")\n",
    "        plt.ylabel(\"corr\")\n",
    "        plt.show()"
   ]
  },
  {
   "cell_type": "markdown",
   "metadata": {},
   "source": [
    "# Checks"
   ]
  },
  {
   "cell_type": "markdown",
   "metadata": {},
   "source": [
    "* sort by delay and vaidates with geo distance\n",
    "* moore's law"
   ]
  },
  {
   "cell_type": "code",
   "execution_count": null,
   "metadata": {},
   "outputs": [],
   "source": []
  }
 ],
 "metadata": {
  "kernelspec": {
   "display_name": "Python 3 (ipykernel)",
   "language": "python",
   "name": "python3"
  },
  "language_info": {
   "codemirror_mode": {
    "name": "ipython",
    "version": 3
   },
   "file_extension": ".py",
   "mimetype": "text/x-python",
   "name": "python",
   "nbconvert_exporter": "python",
   "pygments_lexer": "ipython3",
   "version": "3.9.9"
  }
 },
 "nbformat": 4,
 "nbformat_minor": 4
}
