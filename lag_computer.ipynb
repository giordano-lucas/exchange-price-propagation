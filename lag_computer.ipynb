{
 "cells": [
  {
   "cell_type": "code",
   "execution_count": 9,
   "id": "0959c175",
   "metadata": {},
   "outputs": [
    {
     "name": "stdout",
     "output_type": "stream",
     "text": [
      "The autoreload extension is already loaded. To reload it, use:\n",
      "  %reload_ext autoreload\n"
     ]
    }
   ],
   "source": [
    "import re\n",
    "import glob\n",
    "import csv\n",
    "from helpers import config\n",
    "from helpers.loading import load_daily_data ,file_exist,get_all_dates\n",
    "from helpers.algorithm import find_best_delay\n",
    "import pandas as pd\n",
    "import time\n",
    "%load_ext autoreload\n",
    "%autoreload 2"
   ]
  },
  {
   "cell_type": "code",
   "execution_count": 10,
   "id": "02b5c8bc",
   "metadata": {},
   "outputs": [
    {
     "name": "stdout",
     "output_type": "stream",
     "text": [
      "3034 dates to process\n"
     ]
    }
   ],
   "source": [
    "all_dates = get_all_dates(config[\"stock\"])\n",
    "print(f\"{len(all_dates)} dates to process\")"
   ]
  },
  {
   "cell_type": "code",
   "execution_count": null,
   "id": "fa491aee",
   "metadata": {},
   "outputs": [
    {
     "name": "stdout",
     "output_type": "stream",
     "text": [
      "date:2011-09-23, 160:3034, 5.274%\r"
     ]
    }
   ],
   "source": [
    "fieldnames = ['date', 'market1','market2',\"lag\"]\n",
    "\n",
    "results_path = config[\"files\"][\"results\"][\"all_best_lags\"] # file where to write the computed lags\n",
    "\n",
    "result_file_exists = file_exist(results_path) \n",
    "csvfile = open(results_path, 'a', newline='') \n",
    "writer = csv.DictWriter(csvfile, fieldnames=fieldnames)\n",
    "\n",
    "if result_file_exists:\n",
    "    processed_dates = set(pd.read_csv(results_path).date.unique())\n",
    "else: \n",
    "    # if the file is new, we need to write headers\n",
    "    writer.writeheader()\n",
    "    processed_dates = set()\n",
    "\n",
    "\n",
    "max_iterations = 500\n",
    "start_time = time.time()\n",
    "date_count = 0 # number of dates processed\n",
    "for date_id,date in enumerate(all_dates[::10]):\n",
    "    print(f\"date:{date}, {date_id}:{len(all_dates)}, {100*date_id/len(all_dates):0.3f}%\", end=\"\\r\")\n",
    "\n",
    "    daily_data = load_daily_data(date,preprocessing_steps=['numeric'])\n",
    "    if not daily_data:\n",
    "        # in case all markets do not provide data for the given date, we skip the date\n",
    "        continue\n",
    "        \n",
    "\n",
    "    \n",
    "    # we skip the current date if it has already been processed\n",
    "    if date in processed_dates:\n",
    "        continue\n",
    "        \n",
    "    for i,n1 in enumerate(daily_data):\n",
    "        for j,n2 in enumerate(daily_data):\n",
    "            if i>j: # avoid symetric (corr(a,b)=corr(b,a)) and meaningless (corr(a,a)=1) calculations\n",
    "                best_delay, delays, correlations, los, his = find_best_delay(daily_data,n1,n2,step_size=1000)\n",
    "                # write the computed result\n",
    "                writer.writerow({'date': date, 'market1': n1,'market2': n2,'lag': best_delay})\n",
    "                writer.writerow({'date': date, 'market1': n2,'market2': n1,'lag': -best_delay})\n",
    "    csvfile.flush() # flush every time we processed a date\n",
    "    date_count+=1\n",
    "    if date_count>=max_iterations:\n",
    "        break\n",
    "print()\n",
    "print(f\"{date_count} dates processed in {time.time()-start_time:0.2f}s\")\n",
    "csvfile.close()"
   ]
  },
  {
   "cell_type": "code",
   "execution_count": 2,
   "id": "5d7b130d",
   "metadata": {},
   "outputs": [
    {
     "data": {
      "text/plain": [
       "{'GB':                                       price\n",
       " date                                       \n",
       " 2009-08-24 07:00:07.510000384+00:00  1682.5\n",
       " 2009-08-24 07:00:08.283999744+00:00  1682.5\n",
       " 2009-08-24 07:00:30.668999680+00:00  1677.0\n",
       " 2009-08-24 07:00:30.863000064+00:00  1677.0\n",
       " 2009-08-24 07:00:34.018000128+00:00  1678.5\n",
       " ...                                     ...\n",
       " 2009-08-24 15:29:58.292999936+00:00  1675.5\n",
       " 2009-08-24 15:29:58.799000320+00:00  1675.0\n",
       " 2009-08-24 15:29:58.855000320+00:00  1676.0\n",
       " 2009-08-24 15:29:59.368000+00:00     1675.0\n",
       " 2009-08-24 15:29:59.592999936+00:00  1675.0\n",
       " \n",
       " [1462 rows x 1 columns],\n",
       " 'US':                                      price\n",
       " date                                      \n",
       " 2009-08-24 13:31:40.604000+00:00     55.25\n",
       " 2009-08-24 13:31:40.833000192+00:00  55.25\n",
       " 2009-08-24 13:31:40.904000256+00:00  55.25\n",
       " 2009-08-24 13:31:41.035000576+00:00  55.25\n",
       " 2009-08-24 13:31:41.325000448+00:00  55.25\n",
       " ...                                    ...\n",
       " 2009-08-24 19:59:42.292000+00:00     54.88\n",
       " 2009-08-24 19:59:44.688999680+00:00  54.88\n",
       " 2009-08-24 19:59:44.977999872+00:00  54.86\n",
       " 2009-08-24 19:59:55.302000384+00:00  54.86\n",
       " 2009-08-24 19:59:58.309000192+00:00  54.91\n",
       " \n",
       " [1632 rows x 1 columns],\n",
       " 'NL':                                       price\n",
       " date                                       \n",
       " 2009-08-24 04:45:01.602000128+00:00      ()\n",
       " 2009-08-24 07:00:09.827000320+00:00   19.35\n",
       " 2009-08-24 07:00:11.067000064+00:00   19.33\n",
       " 2009-08-24 07:00:12.442000128+00:00   19.35\n",
       " 2009-08-24 07:00:14.864000256+00:00   19.33\n",
       " ...                                     ...\n",
       " 2009-08-24 15:29:53.570999808+00:00  19.275\n",
       " 2009-08-24 15:29:58.048000512+00:00   19.27\n",
       " 2009-08-24 15:29:59.640999936+00:00  19.265\n",
       " 2009-08-24 15:30:00.159000320+00:00  19.265\n",
       " 2009-08-24 15:35:05.021999872+00:00   19.26\n",
       " \n",
       " [4498 rows x 1 columns]}"
      ]
     },
     "execution_count": 2,
     "metadata": {},
     "output_type": "execute_result"
    }
   ],
   "source": []
  },
  {
   "cell_type": "code",
   "execution_count": 4,
   "id": "a7e7f0c8",
   "metadata": {},
   "outputs": [
    {
     "data": {
      "text/plain": [
       "{'GB':                                       price\n",
       " date                                       \n",
       " 2009-08-24 07:00:07.510000384+00:00  1682.5\n",
       " 2009-08-24 07:00:08.283999744+00:00  1682.5\n",
       " 2009-08-24 07:00:30.668999680+00:00  1677.0\n",
       " 2009-08-24 07:00:30.863000064+00:00  1677.0\n",
       " 2009-08-24 07:00:34.018000128+00:00  1678.5\n",
       " ...                                     ...\n",
       " 2009-08-24 15:29:58.292999936+00:00  1675.5\n",
       " 2009-08-24 15:29:58.799000320+00:00  1675.0\n",
       " 2009-08-24 15:29:58.855000320+00:00  1676.0\n",
       " 2009-08-24 15:29:59.368000+00:00     1675.0\n",
       " 2009-08-24 15:29:59.592999936+00:00  1675.0\n",
       " \n",
       " [1462 rows x 1 columns],\n",
       " 'US':                                      price\n",
       " date                                      \n",
       " 2009-08-24 13:31:40.604000+00:00     55.25\n",
       " 2009-08-24 13:31:40.833000192+00:00  55.25\n",
       " 2009-08-24 13:31:40.904000256+00:00  55.25\n",
       " 2009-08-24 13:31:41.035000576+00:00  55.25\n",
       " 2009-08-24 13:31:41.325000448+00:00  55.25\n",
       " ...                                    ...\n",
       " 2009-08-24 19:59:42.292000+00:00     54.88\n",
       " 2009-08-24 19:59:44.688999680+00:00  54.88\n",
       " 2009-08-24 19:59:44.977999872+00:00  54.86\n",
       " 2009-08-24 19:59:55.302000384+00:00  54.86\n",
       " 2009-08-24 19:59:58.309000192+00:00  54.91\n",
       " \n",
       " [1632 rows x 1 columns],\n",
       " 'NL':                                       price\n",
       " date                                       \n",
       " 2009-08-24 04:45:01.602000128+00:00      ()\n",
       " 2009-08-24 07:00:09.827000320+00:00   19.35\n",
       " 2009-08-24 07:00:11.067000064+00:00   19.33\n",
       " 2009-08-24 07:00:12.442000128+00:00   19.35\n",
       " 2009-08-24 07:00:14.864000256+00:00   19.33\n",
       " ...                                     ...\n",
       " 2009-08-24 15:29:53.570999808+00:00  19.275\n",
       " 2009-08-24 15:29:58.048000512+00:00   19.27\n",
       " 2009-08-24 15:29:59.640999936+00:00  19.265\n",
       " 2009-08-24 15:30:00.159000320+00:00  19.265\n",
       " 2009-08-24 15:35:05.021999872+00:00   19.26\n",
       " \n",
       " [4498 rows x 1 columns]}"
      ]
     },
     "execution_count": 4,
     "metadata": {},
     "output_type": "execute_result"
    }
   ],
   "source": [
    "daily_data"
   ]
  },
  {
   "cell_type": "code",
   "execution_count": 9,
   "id": "5dbcd84c",
   "metadata": {},
   "outputs": [
    {
     "name": "stdout",
     "output_type": "stream",
     "text": [
      "2008-12-24 12:29:44.477999360+00:00 2008-12-24 14:30:24.156000+00:00\n"
     ]
    },
    {
     "data": {
      "text/html": [
       "<div>\n",
       "<style scoped>\n",
       "    .dataframe tbody tr th:only-of-type {\n",
       "        vertical-align: middle;\n",
       "    }\n",
       "\n",
       "    .dataframe tbody tr th {\n",
       "        vertical-align: top;\n",
       "    }\n",
       "\n",
       "    .dataframe thead th {\n",
       "        text-align: right;\n",
       "    }\n",
       "</style>\n",
       "<table border=\"1\" class=\"dataframe\">\n",
       "  <thead>\n",
       "    <tr style=\"text-align: right;\">\n",
       "      <th></th>\n",
       "      <th>price_1</th>\n",
       "      <th>price_2</th>\n",
       "    </tr>\n",
       "    <tr>\n",
       "      <th>date</th>\n",
       "      <th></th>\n",
       "      <th></th>\n",
       "    </tr>\n",
       "  </thead>\n",
       "  <tbody>\n",
       "  </tbody>\n",
       "</table>\n",
       "</div>"
      ],
      "text/plain": [
       "Empty DataFrame\n",
       "Columns: [price_1, price_2]\n",
       "Index: []"
      ]
     },
     "execution_count": 9,
     "metadata": {},
     "output_type": "execute_result"
    }
   ],
   "source": [
    "def generate_delayed_data(s1, s2, delay, join_type=\"outer\"):\n",
    "    s1 = s1.copy()\n",
    "    s2 = s2.copy()\n",
    "    \n",
    "    h = min(s1.index.max(),s2.index.max())\n",
    "    l = max(s1.index.min(),s2.index.min())\n",
    "    print(h,l)\n",
    "    s1.index = s1.index + pd.Timedelta(milliseconds=delay)\n",
    "    pair_data = s1.join(s2, how=join_type, lsuffix=\"_1\",\n",
    "                        rsuffix=\"_2\").ffill().dropna()\n",
    "    return pair_data[(pair_data.index>=l)*(pair_data.index<=h)]\n",
    "generate_delayed_data(daily_data[\"US\"],daily_data[\"GB\"],0)"
   ]
  },
  {
   "cell_type": "code",
   "execution_count": 6,
   "id": "53bbab1b",
   "metadata": {},
   "outputs": [
    {
     "name": "stdout",
     "output_type": "stream",
     "text": [
      "US GB\n"
     ]
    },
    {
     "ename": "ValueError",
     "evalue": "x and y must have length at least 2.",
     "output_type": "error",
     "traceback": [
      "\u001b[1;31m---------------------------------------------------------------------------\u001b[0m",
      "\u001b[1;31mValueError\u001b[0m                                Traceback (most recent call last)",
      "\u001b[1;32m~\\AppData\\Local\\Temp/ipykernel_19472/1044342385.py\u001b[0m in \u001b[0;36m<module>\u001b[1;34m\u001b[0m\n\u001b[0;32m      3\u001b[0m             \u001b[1;32mif\u001b[0m \u001b[0mi\u001b[0m\u001b[1;33m>\u001b[0m\u001b[0mj\u001b[0m\u001b[1;33m:\u001b[0m \u001b[1;31m# avoid symetric (corr(a,b)=corr(b,a)) and meaningless (corr(a,a)=1) calculations\u001b[0m\u001b[1;33m\u001b[0m\u001b[1;33m\u001b[0m\u001b[0m\n\u001b[0;32m      4\u001b[0m                 \u001b[0mprint\u001b[0m\u001b[1;33m(\u001b[0m\u001b[0mn1\u001b[0m\u001b[1;33m,\u001b[0m\u001b[0mn2\u001b[0m\u001b[1;33m)\u001b[0m\u001b[1;33m\u001b[0m\u001b[1;33m\u001b[0m\u001b[0m\n\u001b[1;32m----> 5\u001b[1;33m                 \u001b[0mbest_delay\u001b[0m\u001b[1;33m,\u001b[0m \u001b[0mdelays\u001b[0m\u001b[1;33m,\u001b[0m \u001b[0mcorrelations\u001b[0m\u001b[1;33m,\u001b[0m \u001b[0mlos\u001b[0m\u001b[1;33m,\u001b[0m \u001b[0mhis\u001b[0m \u001b[1;33m=\u001b[0m \u001b[0mfind_best_delay\u001b[0m\u001b[1;33m(\u001b[0m\u001b[0mdaily_data\u001b[0m\u001b[1;33m,\u001b[0m\u001b[0mn1\u001b[0m\u001b[1;33m,\u001b[0m\u001b[0mn2\u001b[0m\u001b[1;33m,\u001b[0m\u001b[0mstep_size\u001b[0m\u001b[1;33m=\u001b[0m\u001b[1;36m1000\u001b[0m\u001b[1;33m)\u001b[0m\u001b[1;33m\u001b[0m\u001b[1;33m\u001b[0m\u001b[0m\n\u001b[0m",
      "\u001b[1;32mC:\\Big Data\\exchange-price-propagation\\helpers\\algorithm.py\u001b[0m in \u001b[0;36mfind_best_delay\u001b[1;34m(df, n1, n2, step_size, verbose)\u001b[0m\n\u001b[0;32m     16\u001b[0m     \u001b[0mlast_best_delay\u001b[0m \u001b[1;33m=\u001b[0m \u001b[1;32mNone\u001b[0m\u001b[1;33m\u001b[0m\u001b[1;33m\u001b[0m\u001b[0m\n\u001b[0;32m     17\u001b[0m     \u001b[1;32mfor\u001b[0m \u001b[0mit\u001b[0m \u001b[1;32min\u001b[0m \u001b[0mrange\u001b[0m\u001b[1;33m(\u001b[0m\u001b[0mn_iteration\u001b[0m\u001b[1;33m)\u001b[0m\u001b[1;33m:\u001b[0m\u001b[1;33m\u001b[0m\u001b[1;33m\u001b[0m\u001b[0m\n\u001b[1;32m---> 18\u001b[1;33m         delays, correlations, los, his = compute_delays(df,\n\u001b[0m\u001b[0;32m     19\u001b[0m             n1, n2, center=center, step_size=step_size)\n\u001b[0;32m     20\u001b[0m         \u001b[0mbest_delay\u001b[0m \u001b[1;33m=\u001b[0m \u001b[0mdelays\u001b[0m\u001b[1;33m[\u001b[0m\u001b[0mnp\u001b[0m\u001b[1;33m.\u001b[0m\u001b[0margmax\u001b[0m\u001b[1;33m(\u001b[0m\u001b[0mcorrelations\u001b[0m\u001b[1;33m)\u001b[0m\u001b[1;33m]\u001b[0m\u001b[1;33m\u001b[0m\u001b[1;33m\u001b[0m\u001b[0m\n",
      "\u001b[1;32mC:\\Big Data\\exchange-price-propagation\\helpers\\delay.py\u001b[0m in \u001b[0;36mcompute_delays\u001b[1;34m(df, n1, n2, center, step_size, n_step)\u001b[0m\n\u001b[0;32m     25\u001b[0m         \u001b[0ms1\u001b[0m\u001b[1;33m,\u001b[0m \u001b[0ms2\u001b[0m \u001b[1;33m=\u001b[0m \u001b[0mdf\u001b[0m\u001b[1;33m[\u001b[0m\u001b[0mn1\u001b[0m\u001b[1;33m]\u001b[0m\u001b[1;33m.\u001b[0m\u001b[0mcopy\u001b[0m\u001b[1;33m(\u001b[0m\u001b[1;33m)\u001b[0m\u001b[1;33m,\u001b[0m \u001b[0mdf\u001b[0m\u001b[1;33m[\u001b[0m\u001b[0mn2\u001b[0m\u001b[1;33m]\u001b[0m\u001b[1;33m.\u001b[0m\u001b[0mcopy\u001b[0m\u001b[1;33m(\u001b[0m\u001b[1;33m)\u001b[0m\u001b[1;33m\u001b[0m\u001b[1;33m\u001b[0m\u001b[0m\n\u001b[0;32m     26\u001b[0m         \u001b[0mpair_data\u001b[0m \u001b[1;33m=\u001b[0m \u001b[0mgenerate_delayed_data\u001b[0m\u001b[1;33m(\u001b[0m\u001b[0ms1\u001b[0m\u001b[1;33m,\u001b[0m \u001b[0ms2\u001b[0m\u001b[1;33m,\u001b[0m \u001b[0mdelay\u001b[0m\u001b[1;33m)\u001b[0m\u001b[1;33m\u001b[0m\u001b[1;33m\u001b[0m\u001b[0m\n\u001b[1;32m---> 27\u001b[1;33m         \u001b[0mcorr\u001b[0m\u001b[1;33m,\u001b[0m \u001b[0mlo\u001b[0m\u001b[1;33m,\u001b[0m \u001b[0mhi\u001b[0m \u001b[1;33m=\u001b[0m \u001b[0mcompute_correlation\u001b[0m\u001b[1;33m(\u001b[0m\u001b[0mpair_data\u001b[0m\u001b[1;33m)\u001b[0m\u001b[1;33m\u001b[0m\u001b[1;33m\u001b[0m\u001b[0m\n\u001b[0m\u001b[0;32m     28\u001b[0m         \u001b[0mcorrelations\u001b[0m\u001b[1;33m.\u001b[0m\u001b[0mappend\u001b[0m\u001b[1;33m(\u001b[0m\u001b[0mcorr\u001b[0m\u001b[1;33m)\u001b[0m\u001b[1;33m\u001b[0m\u001b[1;33m\u001b[0m\u001b[0m\n\u001b[0;32m     29\u001b[0m         \u001b[0mlos\u001b[0m\u001b[1;33m.\u001b[0m\u001b[0mappend\u001b[0m\u001b[1;33m(\u001b[0m\u001b[0mcorr\u001b[0m\u001b[1;33m-\u001b[0m\u001b[0mlo\u001b[0m\u001b[1;33m)\u001b[0m\u001b[1;33m\u001b[0m\u001b[1;33m\u001b[0m\u001b[0m\n",
      "\u001b[1;32mC:\\Big Data\\exchange-price-propagation\\helpers\\stats.py\u001b[0m in \u001b[0;36mcompute_correlation\u001b[1;34m(pair_data, CI)\u001b[0m\n\u001b[0;32m      6\u001b[0m     \u001b[0ms1\u001b[0m\u001b[1;33m,\u001b[0m \u001b[0ms2\u001b[0m \u001b[1;33m=\u001b[0m \u001b[0mpair_data\u001b[0m\u001b[1;33m[\u001b[0m\u001b[1;34m\"price_1\"\u001b[0m\u001b[1;33m]\u001b[0m\u001b[1;33m.\u001b[0m\u001b[0mvalues\u001b[0m\u001b[1;33m,\u001b[0m \u001b[0mpair_data\u001b[0m\u001b[1;33m[\u001b[0m\u001b[1;34m\"price_2\"\u001b[0m\u001b[1;33m]\u001b[0m\u001b[1;33m.\u001b[0m\u001b[0mvalues\u001b[0m\u001b[1;33m\u001b[0m\u001b[1;33m\u001b[0m\u001b[0m\n\u001b[0;32m      7\u001b[0m     \u001b[0mN\u001b[0m \u001b[1;33m=\u001b[0m \u001b[0mlen\u001b[0m\u001b[1;33m(\u001b[0m\u001b[0ms1\u001b[0m\u001b[1;33m)\u001b[0m\u001b[1;33m\u001b[0m\u001b[1;33m\u001b[0m\u001b[0m\n\u001b[1;32m----> 8\u001b[1;33m     \u001b[0mcorr\u001b[0m\u001b[1;33m,\u001b[0m \u001b[0mp_val\u001b[0m \u001b[1;33m=\u001b[0m \u001b[0mstats\u001b[0m\u001b[1;33m.\u001b[0m\u001b[0mpearsonr\u001b[0m\u001b[1;33m(\u001b[0m\u001b[0ms1\u001b[0m\u001b[1;33m,\u001b[0m \u001b[0ms2\u001b[0m\u001b[1;33m)\u001b[0m\u001b[1;33m\u001b[0m\u001b[1;33m\u001b[0m\u001b[0m\n\u001b[0m\u001b[0;32m      9\u001b[0m     \u001b[1;32mif\u001b[0m \u001b[1;32mnot\u001b[0m \u001b[0mCI\u001b[0m\u001b[1;33m:\u001b[0m\u001b[1;33m\u001b[0m\u001b[1;33m\u001b[0m\u001b[0m\n\u001b[0;32m     10\u001b[0m         \u001b[1;32mreturn\u001b[0m \u001b[0mcorr\u001b[0m\u001b[1;33m\u001b[0m\u001b[1;33m\u001b[0m\u001b[0m\n",
      "\u001b[1;32m~\\anaconda3\\lib\\site-packages\\scipy\\stats\\stats.py\u001b[0m in \u001b[0;36mpearsonr\u001b[1;34m(x, y)\u001b[0m\n\u001b[0;32m   4014\u001b[0m \u001b[1;33m\u001b[0m\u001b[0m\n\u001b[0;32m   4015\u001b[0m     \u001b[1;32mif\u001b[0m \u001b[0mn\u001b[0m \u001b[1;33m<\u001b[0m \u001b[1;36m2\u001b[0m\u001b[1;33m:\u001b[0m\u001b[1;33m\u001b[0m\u001b[1;33m\u001b[0m\u001b[0m\n\u001b[1;32m-> 4016\u001b[1;33m         \u001b[1;32mraise\u001b[0m \u001b[0mValueError\u001b[0m\u001b[1;33m(\u001b[0m\u001b[1;34m'x and y must have length at least 2.'\u001b[0m\u001b[1;33m)\u001b[0m\u001b[1;33m\u001b[0m\u001b[1;33m\u001b[0m\u001b[0m\n\u001b[0m\u001b[0;32m   4017\u001b[0m \u001b[1;33m\u001b[0m\u001b[0m\n\u001b[0;32m   4018\u001b[0m     \u001b[0mx\u001b[0m \u001b[1;33m=\u001b[0m \u001b[0mnp\u001b[0m\u001b[1;33m.\u001b[0m\u001b[0masarray\u001b[0m\u001b[1;33m(\u001b[0m\u001b[0mx\u001b[0m\u001b[1;33m)\u001b[0m\u001b[1;33m\u001b[0m\u001b[1;33m\u001b[0m\u001b[0m\n",
      "\u001b[1;31mValueError\u001b[0m: x and y must have length at least 2."
     ]
    }
   ],
   "source": [
    "for i,n1 in enumerate(daily_data):\n",
    "        for j,n2 in enumerate(daily_data):\n",
    "            if i>j: # avoid symetric (corr(a,b)=corr(b,a)) and meaningless (corr(a,a)=1) calculations\n",
    "                print(n1,n2)\n",
    "                best_delay, delays, correlations, los, his = find_best_delay(daily_data,n1,n2,step_size=1000)"
   ]
  },
  {
   "cell_type": "code",
   "execution_count": null,
   "id": "24bd1785",
   "metadata": {},
   "outputs": [],
   "source": []
  }
 ],
 "metadata": {
  "kernelspec": {
   "display_name": "Python 3 (ipykernel)",
   "language": "python",
   "name": "python3"
  },
  "language_info": {
   "codemirror_mode": {
    "name": "ipython",
    "version": 3
   },
   "file_extension": ".py",
   "mimetype": "text/x-python",
   "name": "python",
   "nbconvert_exporter": "python",
   "pygments_lexer": "ipython3",
   "version": "3.9.7"
  }
 },
 "nbformat": 4,
 "nbformat_minor": 5
}
