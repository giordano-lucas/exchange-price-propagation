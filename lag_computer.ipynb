{
 "cells": [
  {
   "cell_type": "code",
   "execution_count": 1,
   "id": "3ea74436",
   "metadata": {},
   "outputs": [
    {
     "name": "stdout",
     "output_type": "stream",
     "text": [
      "C:\\Big Data\\exchange-price-propagation\\helpers\\config.yml\n"
     ]
    }
   ],
   "source": [
    "import re\n",
    "import glob\n",
    "import csv\n",
    "from helpers import config\n",
    "from helpers.loading import load_daily_data ,file_exist"
   ]
  },
  {
   "cell_type": "code",
   "execution_count": 66,
   "id": "2090d5c5",
   "metadata": {},
   "outputs": [],
   "source": [
    "signal  = \"trade\"\n",
    "stock = \"MFST\"\n",
    "def get_all_dates(stock,signal):\n",
    "    \"\"\"return a sorted list of all dates were trades/bbo (signal) are available in the data\"\"\"\n",
    "    \n",
    "    def extract_date(s):\n",
    "        try:\n",
    "            date = re.search(r\"[0-9]{4}-[0-9]{2}-[0-9]{2}\",s).group(0)\n",
    "        except :\n",
    "            print(s)\n",
    "        return date\n",
    "    all_files = glob.glob(f\"./Data/{signal}/*/*\")\n",
    "    all_dates = [extract_date(s) for s in all_files] \n",
    "    all_dates = list(set(all_dates))\n",
    "    all_dates.sort()\n",
    "    return all_dates"
   ]
  },
  {
   "cell_type": "code",
   "execution_count": 68,
   "id": "59175903",
   "metadata": {},
   "outputs": [],
   "source": [
    "all_dates = get_all_dates(stock,signal)"
   ]
  },
  {
   "cell_type": "code",
   "execution_count": null,
   "id": "247c21f9",
   "metadata": {},
   "outputs": [],
   "source": [
    "fieldnames = ['date', 'market1','market2',\"lag\"]\n",
    "write_header = not file_exist(config[\"files\"][\"results\"][\"all_best_lags\"]) # need to write the header only if the file does not already exists\n",
    "csvfile = open(config[\"files\"][\"results\"][\"all_best_lags\"], 'a', newline='') \n",
    "writer = csv.DictWriter(csvfile, fieldnames=fieldnames)\n",
    "if write_header:\n",
    "    writer.writeheader()\n",
    "    \n",
    "for date in all_dates: \n",
    "    best_lags = {}\n",
    "    daily_data = load_daily_data(date)\n",
    "    for i,n1 in enumerate(daily_data):\n",
    "        for j,n2 in enumerate(daily_data):\n",
    "            if i>j: # avoid symetric (corr(a,b)=corr(b,a)) and meaningless (corr(a,a)=1) calculations\n",
    "                best_lag = find_best_delay_demo(n1,n2,step_size = 1000)\n",
    "                # write the computed result\n",
    "                writer.writerow({'date': '2010', 'market1': n1,'market2': n2,'lag': 10})\n",
    "                \n",
    "    csvfile.flush() # flush every time we processed a date\n",
    "                \n",
    "    break\n",
    "\n",
    "csvfile.close()"
   ]
  },
  {
   "cell_type": "code",
   "execution_count": null,
   "id": "9a45a8e3",
   "metadata": {},
   "outputs": [],
   "source": []
  },
  {
   "cell_type": "code",
   "execution_count": 34,
   "id": "b316326a",
   "metadata": {},
   "outputs": [],
   "source": [
    "fieldnames = ['date', 'market1','market2',\"lag\"]\n",
    "write_header = not file_exist(config[\"files\"][\"results\"][\"all_best_lags\"])\n",
    "csvfile = open(config[\"files\"][\"results\"][\"all_best_lags\"], 'a', newline='') \n",
    "writer = csv.DictWriter(csvfile, fieldnames=fieldnames)\n",
    "if write_header:\n",
    "    writer.writeheader()\n",
    "writer.writerow({'date': '2010', 'market1': 'Beans','market2': 'Beans','lag': 10})\n",
    "                \n",
    "csvfile.flush() # flush every time we processed a date"
   ]
  },
  {
   "cell_type": "code",
   "execution_count": 35,
   "id": "68d59c34",
   "metadata": {},
   "outputs": [],
   "source": [
    "csvfile.close()"
   ]
  },
  {
   "cell_type": "code",
   "execution_count": null,
   "id": "c568627a",
   "metadata": {},
   "outputs": [],
   "source": [
    "\n",
    "    \n",
    "    \n",
    "\n",
    "    \n",
    "    writer.writerow({'first_name': 'Baked', 'last_name': 'Beans'})\n",
    "    writer.writerow({'first_name': 'Lovely', 'last_name': 'Spam'})\n",
    "    writer.writerow({'first_name': 'Wonderful', 'last_name': 'Spam'})"
   ]
  }
 ],
 "metadata": {
  "kernelspec": {
   "display_name": "Python 3 (ipykernel)",
   "language": "python",
   "name": "python3"
  },
  "language_info": {
   "codemirror_mode": {
    "name": "ipython",
    "version": 3
   },
   "file_extension": ".py",
   "mimetype": "text/x-python",
   "name": "python",
   "nbconvert_exporter": "python",
   "pygments_lexer": "ipython3",
   "version": "3.9.7"
  }
 },
 "nbformat": 4,
 "nbformat_minor": 5
}
