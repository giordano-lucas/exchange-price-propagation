{
 "cells": [
  {
   "cell_type": "code",
   "execution_count": 19,
   "id": "0959c175",
   "metadata": {},
   "outputs": [
    {
     "name": "stdout",
     "output_type": "stream",
     "text": [
      "The autoreload extension is already loaded. To reload it, use:\n",
      "  %reload_ext autoreload\n"
     ]
    }
   ],
   "source": [
    "import re\n",
    "import glob\n",
    "import csv\n",
    "from helpers import config\n",
    "from helpers.loading import load_daily_data ,file_exist,get_all_dates\n",
    "from helpers.algorithm import find_best_delay\n",
    "import pandas as pd\n",
    "import time\n",
    "%load_ext autoreload\n",
    "%autoreload 2"
   ]
  },
  {
   "cell_type": "code",
   "execution_count": 20,
   "id": "02b5c8bc",
   "metadata": {},
   "outputs": [
    {
     "name": "stdout",
     "output_type": "stream",
     "text": [
      "3034 dates to process\n"
     ]
    }
   ],
   "source": [
    "all_dates = get_all_dates(config[\"stock\"])\n",
    "print(f\"{len(all_dates)} dates to process\")"
   ]
  },
  {
   "cell_type": "code",
   "execution_count": null,
   "id": "fa491aee",
   "metadata": {},
   "outputs": [
    {
     "name": "stdout",
     "output_type": "stream",
     "text": [
      "date:2010-07-19, 1292:3034, 42.584%\r"
     ]
    }
   ],
   "source": [
    "fieldnames = ['date', 'market1','market2',\"lag\"]\n",
    "preprocessing_steps = ['numeric',\"log_returns\"]\n",
    "\n",
    "# file where to write the computed lags\n",
    "results_path = config[\"files\"][\"results\"][\"all_best_lags\"].format(\"_\".join(preprocessing_steps))\n",
    "\n",
    "result_file_exists = file_exist(results_path) \n",
    "csvfile = open(results_path, 'a', newline='') \n",
    "writer = csv.DictWriter(csvfile, fieldnames=fieldnames)\n",
    "\n",
    "if result_file_exists:\n",
    "    processed_dates = set(pd.read_csv(results_path).date.unique())\n",
    "else: \n",
    "    # if the file is new, we need to write headers\n",
    "    writer.writeheader()\n",
    "    processed_dates = set()\n",
    "\n",
    "\n",
    "max_iterations = 5000\n",
    "start_time = time.time()\n",
    "date_count = 0 # number of dates processed\n",
    "for date_id,date in enumerate(all_dates[::1]):\n",
    "    print(f\"date:{date}, {date_id}:{len(all_dates)}, {100*date_id/len(all_dates):0.3f}%\", end=\"\\r\")\n",
    "\n",
    "    daily_data = load_daily_data(date,preprocessing_steps=preprocessing_steps)\n",
    "    if not daily_data:\n",
    "        # in case all markets do not provide data for the given date, we skip the date\n",
    "        continue\n",
    "    \n",
    "    # we skip the current date if it has already been processed\n",
    "    if date in processed_dates:\n",
    "        continue\n",
    "        \n",
    "    for i,n1 in enumerate(daily_data):\n",
    "        for j,n2 in enumerate(daily_data):\n",
    "            if i>j: # avoid symetric (corr(a,b)=corr(b,a)) and meaningless (corr(a,a)=1) calculations\n",
    "                best_delay, delays, correlations, los, his = find_best_delay(daily_data,n1,n2,step_size=1000)\n",
    "                # write the computed result\n",
    "                writer.writerow({'date': date, 'market1': n1,'market2': n2,'lag': best_delay})\n",
    "                writer.writerow({'date': date, 'market1': n2,'market2': n1,'lag': -best_delay})\n",
    "    csvfile.flush() # flush every time we processed a date\n",
    "    date_count+=1\n",
    "    if date_count>=max_iterations:\n",
    "        break\n",
    "print()\n",
    "print(f\"{date_count} dates processed in {time.time()-start_time:0.2f}s\")\n",
    "csvfile.close()"
   ]
  },
  {
   "cell_type": "code",
   "execution_count": 22,
   "id": "74d45dbb",
   "metadata": {},
   "outputs": [
    {
     "data": {
      "text/plain": [
       "{'GB':                                         price\n",
       " date                                         \n",
       " 2010-07-12 07:00:12.564000+00:00     0.000000\n",
       " 2010-07-12 07:00:13.581000192+00:00  0.000000\n",
       " 2010-07-12 07:00:13.599000064+00:00 -0.001128\n",
       " 2010-07-12 07:00:13.606000640+00:00  0.000000\n",
       " 2010-07-12 07:00:13.839000064+00:00  0.000000\n",
       " ...                                       ...\n",
       " 2010-07-12 15:29:48.189999616+00:00  0.000000\n",
       " 2010-07-12 15:29:48.240000+00:00     0.000000\n",
       " 2010-07-12 15:29:48.304999680+00:00  0.000000\n",
       " 2010-07-12 15:29:48.309999872+00:00  0.000000\n",
       " 2010-07-12 15:29:49.120999936+00:00  0.000000\n",
       " \n",
       " [1839 rows x 1 columns],\n",
       " 'US':                                         price\n",
       " date                                         \n",
       " 2010-07-12 13:32:38.300000+00:00     0.000377\n",
       " 2010-07-12 13:32:45.878999808+00:00  0.000377\n",
       " 2010-07-12 13:32:49.690999552+00:00  0.000000\n",
       " 2010-07-12 13:32:57.945000192+00:00  0.000000\n",
       " 2010-07-12 13:33:03.484999680+00:00  0.000000\n",
       " ...                                       ...\n",
       " 2010-07-12 19:59:55.518000128+00:00 -0.000187\n",
       " 2010-07-12 19:59:56.178000128+00:00  0.000187\n",
       " 2010-07-12 19:59:56.349999872+00:00 -0.000187\n",
       " 2010-07-12 19:59:56.502999552+00:00  0.000000\n",
       " 2010-07-12 19:59:57.576999936+00:00  0.000000\n",
       " \n",
       " [1791 rows x 1 columns],\n",
       " 'NL':                                         price\n",
       " date                                         \n",
       " 2010-07-12 07:00:01.354000128+00:00       inf\n",
       " 2010-07-12 07:00:01.354000128+00:00 -0.000474\n",
       " 2010-07-12 07:00:01.355999744+00:00  0.000000\n",
       " 2010-07-12 07:00:02.400999424+00:00  0.000000\n",
       " 2010-07-12 07:00:13.989000448+00:00  0.000237\n",
       " ...                                       ...\n",
       " 2010-07-12 15:29:49.963000320+00:00  0.000000\n",
       " 2010-07-12 15:29:50.037999872+00:00  0.000000\n",
       " 2010-07-12 15:29:51.715000064+00:00  0.000000\n",
       " 2010-07-12 15:29:59.771000064+00:00  0.000236\n",
       " 2010-07-12 15:35:03.875000320+00:00  0.000000\n",
       " \n",
       " [3188 rows x 1 columns]}"
      ]
     },
     "execution_count": 22,
     "metadata": {},
     "output_type": "execute_result"
    }
   ],
   "source": [
    "daily_data"
   ]
  },
  {
   "cell_type": "code",
   "execution_count": null,
   "id": "7846a4f3",
   "metadata": {},
   "outputs": [],
   "source": []
  }
 ],
 "metadata": {
  "kernelspec": {
   "display_name": "Python 3 (ipykernel)",
   "language": "python",
   "name": "python3"
  },
  "language_info": {
   "codemirror_mode": {
    "name": "ipython",
    "version": 3
   },
   "file_extension": ".py",
   "mimetype": "text/x-python",
   "name": "python",
   "nbconvert_exporter": "python",
   "pygments_lexer": "ipython3",
   "version": "3.9.7"
  }
 },
 "nbformat": 4,
 "nbformat_minor": 5
}
