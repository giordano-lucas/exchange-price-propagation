{
 "cells": [
  {
   "cell_type": "code",
   "execution_count": 1,
   "id": "0959c175",
   "metadata": {},
   "outputs": [],
   "source": [
    "import re\n",
    "import glob\n",
    "import csv\n",
    "from helpers import config\n",
    "from helpers.loading import load_daily_data ,file_exist,get_all_dates\n",
    "from helpers.algorithm import find_best_delay\n",
    "import pandas as pd\n",
    "import time\n",
    "%load_ext autoreload\n",
    "%autoreload 2"
   ]
  },
  {
   "cell_type": "code",
   "execution_count": 2,
   "id": "02b5c8bc",
   "metadata": {},
   "outputs": [
    {
     "name": "stdout",
     "output_type": "stream",
     "text": [
      "3034 dates to process\n"
     ]
    }
   ],
   "source": [
    "all_dates = get_all_dates(config[\"stock\"])\n",
    "print(f\"{len(all_dates)} dates to process\")"
   ]
  },
  {
   "cell_type": "code",
   "execution_count": 4,
   "id": "fa491aee",
   "metadata": {},
   "outputs": [
    {
     "name": "stdout",
     "output_type": "stream",
     "text": [
      "date:2005-10-10, 61:3034, 2.011%\n",
      "50 dates processed in 109.84s\n"
     ]
    }
   ],
   "source": [
    "fieldnames = ['date', 'market1','market2',\"lag\"]\n",
    "\n",
    "results_path = config[\"files\"][\"results\"][\"all_best_lags\"] # file where to write the computed lags\n",
    "\n",
    "result_file_exists = file_exist(results_path) \n",
    "csvfile = open(results_path, 'a', newline='') \n",
    "writer = csv.DictWriter(csvfile, fieldnames=fieldnames)\n",
    "\n",
    "if result_file_exists:\n",
    "    processed_dates = set(pd.read_csv(results_path).date.unique())\n",
    "else: \n",
    "    # if the file is new, we need to write headers\n",
    "    writer.writeheader()\n",
    "    processed_dates = set()\n",
    "\n",
    "\n",
    "max_iterations = 50\n",
    "start_time = time.time()\n",
    "date_count = 0 # number of dates processed\n",
    "for date_id,date in enumerate(all_dates):\n",
    "    print(f\"date:{date}, {date_id}:{len(all_dates)}, {100*date_id/len(all_dates):0.3f}%\", end=\"\\r\")\n",
    "\n",
    "    daily_data = load_daily_data(date,)\n",
    "    if not daily_data:\n",
    "        # in case all markets do not provide data for the given date, we skip the date\n",
    "        continue\n",
    "        \n",
    "\n",
    "    \n",
    "    # we skip the current date if it has already been processed\n",
    "    if date in processed_dates:\n",
    "        continue\n",
    "        \n",
    "    for i,n1 in enumerate(daily_data):\n",
    "        for j,n2 in enumerate(daily_data):\n",
    "            if i>j: # avoid symetric (corr(a,b)=corr(b,a)) and meaningless (corr(a,a)=1) calculations\n",
    "                best_delay, delays, correlations, los, his = find_best_delay(daily_data,n1,n2,step_size=1000)\n",
    "                # write the computed result\n",
    "                writer.writerow({'date': date, 'market1': n1,'market2': n2,'lag': best_delay})\n",
    "                writer.writerow({'date': date, 'market1': n2,'market2': n1,'lag': -best_delay})\n",
    "    csvfile.flush() # flush every time we processed a date\n",
    "    date_count+=1\n",
    "    if date_count>=max_iterations:\n",
    "        break\n",
    "print()\n",
    "print(f\"{date_count} dates processed in {time.time()-start_time:0.2f}s\")\n",
    "csvfile.close()"
   ]
  },
  {
   "cell_type": "code",
   "execution_count": 5,
   "id": "ef70019e",
   "metadata": {},
   "outputs": [
    {
     "data": {
      "text/plain": [
       "{'GB':                                       price\n",
       " date                                       \n",
       " 2005-10-10 07:00:39.219000320+00:00  1800.0\n",
       " 2005-10-10 07:00:41.419999872+00:00  1800.0\n",
       " 2005-10-10 07:01:04.438000256+00:00  1800.0\n",
       " 2005-10-10 07:02:05.926000256+00:00  1799.0\n",
       " 2005-10-10 07:02:06.269999872+00:00  1799.0\n",
       " ...                                     ...\n",
       " 2005-10-10 15:28:27.761999744+00:00  1782.0\n",
       " 2005-10-10 15:28:27.952000+00:00     1782.0\n",
       " 2005-10-10 15:29:06.245000448+00:00  1783.0\n",
       " 2005-10-10 15:30:40.233000320+00:00  1782.2\n",
       " 2005-10-10 15:33:31.381000064+00:00  1784.0\n",
       " \n",
       " [763 rows x 1 columns],\n",
       " 'US':                                      price\n",
       " date                                      \n",
       " 2005-10-10 13:30:08.840000+00:00     63.04\n",
       " 2005-10-10 13:30:18.760000+00:00     63.03\n",
       " 2005-10-10 13:31:04.359999744+00:00  63.03\n",
       " 2005-10-10 13:31:07.230999808+00:00  63.04\n",
       " 2005-10-10 13:32:08.968999680+00:00  63.02\n",
       " ...                                    ...\n",
       " 2005-10-10 19:59:43.359999872+00:00  62.37\n",
       " 2005-10-10 19:59:44.751999616+00:00  62.37\n",
       " 2005-10-10 19:59:50.539999488+00:00  62.37\n",
       " 2005-10-10 20:00:13.716999808+00:00  62.37\n",
       " 2005-10-10 20:00:35.899000192+00:00  62.38\n",
       " \n",
       " [1495 rows x 1 columns],\n",
       " 'NL':                                      price\n",
       " date                                      \n",
       " 2005-10-10 07:00:12.409000064+00:00  26.10\n",
       " 2005-10-10 07:00:31.930999936+00:00  26.11\n",
       " 2005-10-10 07:00:31.930999936+00:00  26.13\n",
       " 2005-10-10 07:00:36.307999744+00:00  26.13\n",
       " 2005-10-10 07:00:43.305999872+00:00  26.11\n",
       " ...                                    ...\n",
       " 2005-10-10 15:32:08.253999872+00:00  25.91\n",
       " 2005-10-10 15:33:12.436999552+00:00  25.91\n",
       " 2005-10-10 15:35:27.226999680+00:00  25.91\n",
       " 2005-10-10 15:35:31.702999552+00:00  25.91\n",
       " 2005-10-10 15:36:13.160000256+00:00  25.91\n",
       " \n",
       " [2822 rows x 1 columns]}"
      ]
     },
     "execution_count": 5,
     "metadata": {},
     "output_type": "execute_result"
    }
   ],
   "source": [
    "daily_data"
   ]
  },
  {
   "cell_type": "code",
   "execution_count": null,
   "id": "6a5567f6",
   "metadata": {},
   "outputs": [],
   "source": []
  }
 ],
 "metadata": {
  "kernelspec": {
   "display_name": "Python 3 (ipykernel)",
   "language": "python",
   "name": "python3"
  },
  "language_info": {
   "codemirror_mode": {
    "name": "ipython",
    "version": 3
   },
   "file_extension": ".py",
   "mimetype": "text/x-python",
   "name": "python",
   "nbconvert_exporter": "python",
   "pygments_lexer": "ipython3",
   "version": "3.9.9"
  }
 },
 "nbformat": 4,
 "nbformat_minor": 5
}
