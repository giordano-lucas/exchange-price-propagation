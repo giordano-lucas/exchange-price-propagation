{
 "cells": [
  {
   "cell_type": "code",
   "execution_count": null,
   "id": "0959c175",
   "metadata": {},
   "outputs": [],
   "source": [
    "import re\n",
    "import glob\n",
    "import os\n",
    "import csv\n",
    "from helpers import config\n",
    "from helpers.loading import load_daily_data ,file_exist,get_all_dates\n",
    "from helpers.algorithm import find_best_delay\n",
    "import pandas as pd\n",
    "import time\n",
    "from multiprocessing.pool import ThreadPool\n",
    "import dask\n",
    "import dask.dataframe as dd\n",
    "from helpers.dask import *\n",
    "\n",
    "%load_ext autoreload\n",
    "%autoreload 2\n",
    "print(f\"working on signal : {config['signal']}\")"
   ]
  },
  {
   "cell_type": "markdown",
   "id": "d1200c47",
   "metadata": {},
   "source": [
    "# Loading dates to process"
   ]
  },
  {
   "cell_type": "code",
   "execution_count": null,
   "id": "02b5c8bc",
   "metadata": {},
   "outputs": [],
   "source": [
    "all_dates = get_all_dates(config[\"signal\"],config[\"stock\"])\n",
    "N = len(all_dates)\n",
    "print(f\"{N} dates to process\")"
   ]
  },
  {
   "cell_type": "markdown",
   "id": "2c25d0ea",
   "metadata": {},
   "source": [
    "# Setting up dask"
   ]
  },
  {
   "cell_type": "code",
   "execution_count": null,
   "id": "2ad70f19",
   "metadata": {},
   "outputs": [],
   "source": [
    "k = 5 # number of partitions\n",
    "t = N//k # number of dates to process per worker\n",
    "dask.config.set(scheduler=\"processes\")\n",
    "#dask.config.set(pool=ThreadPool(k))"
   ]
  },
  {
   "cell_type": "markdown",
   "id": "7ccde5d0",
   "metadata": {},
   "source": [
    "# Processing function"
   ]
  },
  {
   "cell_type": "code",
   "execution_count": null,
   "id": "fa491aee",
   "metadata": {},
   "outputs": [],
   "source": [
    "fieldnames = ['date', 'market1','market2',\"lag\"]\n",
    "signal = config[\"signal\"]\n",
    "@dask.delayed\n",
    "def compute_lags(preprocessing_steps,start_date_idx,end_date_idx,max_iterations = 500,verbose=0):\n",
    "    \n",
    "    # file where to write the computed lags\n",
    "    results_path = config[\"files\"][\"results\"][signal][\"dask_calculation\"][\"all_best_lags\"]\\\n",
    "                    .format(\"_\".join(preprocessing_steps)+f\"{start_date_idx}_{end_date_idx}\")\n",
    "\n",
    "    result_file_exists = file_exist(results_path) \n",
    "    csvfile = open(results_path, 'a', newline='') \n",
    "    writer = csv.DictWriter(csvfile, fieldnames=fieldnames)\n",
    "    \n",
    "    if result_file_exists:\n",
    "        processed_dates = set(pd.read_csv(results_path).date.unique())\n",
    "    else: \n",
    "        # if the file is new, we need to write headers\n",
    "        writer.writeheader()\n",
    "        processed_dates = set()\n",
    "\n",
    "    start_time = time.time()\n",
    "    date_count = 0 # number of dates processed\n",
    "    dates_to_process = all_dates[start_date_idx:end_date_idx]\n",
    "    print(len(dates_to_process))\n",
    "    for date_id,date in enumerate(dates_to_process):\n",
    "        if verbose>0:\n",
    "            print(f\"date:{date}, {date_id}:{len(dates_to_process)}, {100*date_id/len(dates_to_process):0.3f}%\", end=\"\\r\")\n",
    "            \n",
    "        ###########################################################\n",
    "        try : \n",
    "            daily_data = load_daily_data(date,preprocessing_steps=preprocessing_steps)\n",
    "        except : \n",
    "            continue\n",
    "        ###########################################################\n",
    "        if not daily_data:\n",
    "            # in case all markets do not provide data for the given date, we skip the date\n",
    "            continue\n",
    "\n",
    "        # we skip the current date if it has already been processed\n",
    "        if date in processed_dates:\n",
    "            continue\n",
    "\n",
    "        for i,n1 in enumerate(daily_data):\n",
    "            for j,n2 in enumerate(daily_data):\n",
    "                if i>j: # avoid symetric (corr(a,b)=corr(b,a)) and meaningless (corr(a,a)=1) calculations\n",
    "                    best_delay, delays, correlations, los, his = find_best_delay(daily_data,n1,n2,step_size=1000)\n",
    "                    # write the computed result\n",
    "                    writer.writerow({'date': date, 'market1': n1,'market2': n2,'lag': best_delay})\n",
    "                    writer.writerow({'date': date, 'market1': n2,'market2': n1,'lag': -best_delay})\n",
    "        csvfile.flush() # flush every time we processed a date\n",
    "        date_count+=1\n",
    "        if date_count>=max_iterations:\n",
    "            break\n",
    "    print()\n",
    "    if verbose>0:\n",
    "        print(f\"{date_count} dates processed in {time.time()-start_time:0.2f}s\")\n",
    "    csvfile.close()\n",
    "    \n",
    "    return results_path"
   ]
  },
  {
   "cell_type": "markdown",
   "id": "9bac6207",
   "metadata": {},
   "source": [
    "# Processing using dask"
   ]
  },
  {
   "cell_type": "code",
   "execution_count": null,
   "id": "17c9eeaf",
   "metadata": {},
   "outputs": [],
   "source": [
    "def compute_lags_dask(preprocessing_steps):\n",
    "    promises = []\n",
    "    for start_date_idx in range(0,N,t):\n",
    "        end_date_idx = start_date_idx+t\n",
    "        promise = compute_lags(preprocessing_steps,start_date_idx,end_date_idx)\n",
    "        promises.append(promise)\n",
    "    \n",
    "    final_result_path = config[\"files\"][\"results\"][signal][\"all_best_lags\"]\\\n",
    "                    .format(\"_\".join(preprocessing_steps))\n",
    "    dask_computation(promises,final_result_path)"
   ]
  },
  {
   "cell_type": "code",
   "execution_count": null,
   "id": "547c21ec",
   "metadata": {},
   "outputs": [],
   "source": [
    "preprocessing_steps = [\"numeric\",\"log_returns\"]"
   ]
  },
  {
   "cell_type": "code",
   "execution_count": null,
   "id": "171a57dd",
   "metadata": {},
   "outputs": [],
   "source": [
    "compute_lags_dask(preprocessing_steps)"
   ]
  }
 ],
 "metadata": {
  "kernelspec": {
   "display_name": "Python 3 (ipykernel)",
   "language": "python",
   "name": "python3"
  },
  "language_info": {
   "codemirror_mode": {
    "name": "ipython",
    "version": 3
   },
   "file_extension": ".py",
   "mimetype": "text/x-python",
   "name": "python",
   "nbconvert_exporter": "python",
   "pygments_lexer": "ipython3",
   "version": "3.9.7"
  }
 },
 "nbformat": 4,
 "nbformat_minor": 5
}
