{
 "cells": [
  {
   "cell_type": "code",
   "execution_count": null,
   "id": "83760675",
   "metadata": {},
   "outputs": [],
   "source": [
    "import re\n",
    "import glob\n",
    "import csv\n",
    "from helpers import config\n",
    "from helpers.loading import load_daily_data ,file_exist,get_all_dates\n",
    "from helpers.algorithm import find_best_delay\n",
    "import pandas as pd\n",
    "import time\n",
    "%load_ext autoreload\n",
    "%autoreload 2\n",
    "all_dates = get_all_dates(config[\"stock\"])\n",
    "print(f\"{len(all_dates)} dates to process\")"
   ]
  },
  {
   "cell_type": "code",
   "execution_count": null,
   "id": "b07a518c",
   "metadata": {},
   "outputs": [],
   "source": [
    "date = all_dates[10]\n",
    "daily_data = load_daily_data(date,preprocessing_steps=[])\n"
   ]
  },
  {
   "cell_type": "code",
   "execution_count": null,
   "id": "df79dad4",
   "metadata": {},
   "outputs": [],
   "source": [
    "fieldnames = ['date','market',\"period\"]\n",
    "\n",
    "\n",
    "# file where to write the computed prediods\n",
    "results_path = config[\"files\"][\"results\"][\"liquidity\"]\n",
    "\n",
    "result_file_exists = file_exist(results_path) \n",
    "csvfile = open(results_path, 'a', newline='') \n",
    "writer = csv.DictWriter(csvfile, fieldnames=fieldnames)\n",
    "\n",
    "if result_file_exists:\n",
    "    processed_dates = set(pd.read_csv(results_path).date.unique())\n",
    "else: \n",
    "    # if the file is new, we need to write headers\n",
    "    writer.writeheader()\n",
    "    processed_dates = set()\n",
    "\n",
    "\n",
    "max_iterations = 5000\n",
    "start_time = time.time()\n",
    "date_count = 0 # number of dates processed\n",
    "for date_id,date in enumerate(all_dates[::1]):\n",
    "    print(f\"date:{date}, {date_id}:{len(all_dates)}, {100*date_id/len(all_dates):0.3f}%\", end=\"\\r\")\n",
    "\n",
    "    daily_data = load_daily_data(date,preprocessing_steps=[])\n",
    "    if not daily_data:\n",
    "        # in case all markets do not provide data for the given date, we skip the date\n",
    "        continue\n",
    "    \n",
    "    # we skip the current date if it has already been processed\n",
    "    if date in processed_dates:\n",
    "        continue\n",
    "        \n",
    "    for market in daily_data:\n",
    "        period = daily_data[market].reset_index().date.diff(1).median().total_seconds()\n",
    "        writer.writerow({'date': date, 'market': market,\"period\" : period})\n",
    "        \n",
    "    csvfile.flush() # flush every time we processed a date\n",
    "    date_count+=1\n",
    "    if date_count>=max_iterations:\n",
    "        break\n",
    "print()\n",
    "print(f\"{date_count} dates processed in {time.time()-start_time:0.2f}s\")\n",
    "csvfile.close()"
   ]
  },
  {
   "cell_type": "code",
   "execution_count": null,
   "id": "1341bffe",
   "metadata": {},
   "outputs": [],
   "source": []
  }
 ],
 "metadata": {
  "kernelspec": {
   "display_name": "Python 3 (ipykernel)",
   "language": "python",
   "name": "python3"
  },
  "language_info": {
   "codemirror_mode": {
    "name": "ipython",
    "version": 3
   },
   "file_extension": ".py",
   "mimetype": "text/x-python",
   "name": "python",
   "nbconvert_exporter": "python",
   "pygments_lexer": "ipython3",
   "version": "3.9.7"
  }
 },
 "nbformat": 4,
 "nbformat_minor": 5
}
