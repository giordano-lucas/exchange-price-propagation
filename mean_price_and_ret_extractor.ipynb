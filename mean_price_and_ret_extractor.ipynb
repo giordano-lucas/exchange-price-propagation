{
 "cells": [
  {
   "cell_type": "code",
   "execution_count": null,
   "id": "7d7db981",
   "metadata": {},
   "outputs": [],
   "source": [
    "import dask.dataframe as dd\n",
    "import glob\n",
    "import pandas as pd\n",
    "import numpy as np\n",
    "from helpers.preprocessing import *\n",
    "from helpers import config\n",
    "%load_ext autoreload\n",
    "%autoreload 2"
   ]
  },
  {
   "cell_type": "code",
   "execution_count": null,
   "id": "12a47baf",
   "metadata": {},
   "outputs": [],
   "source": [
    "def extract_ret_and_price(market,signal):\n",
    "    \n",
    "    data = load_all_data_dask(market,signal)\n",
    "    data = to_numeric_dask(data)\n",
    "    #### Mean prices ####\n",
    "    mean_prices = data[[\"date\",\"price\"]].groupby(\"date\").mean()\n",
    "    # compute and save\n",
    "    mean_prices_df = mean_prices.compute()\n",
    "    mean_prices_df.to_csv(config[\"files\"][\"results\"][signal][\"mean_trade_prices\"].format(\"_\".join([market,signal])))\n",
    "    \n",
    "    #### Mean returns ####\n",
    "    ret = data[[\"date\",\"price\"]].copy()\n",
    "    ret[\"return\"] = np.log(ret[\"price\"]).diff(1)\n",
    "    mean_ret = ret[[\"date\",\"return\"]].groupby(\"date\").mean()\n",
    "    # compute and save \n",
    "    mean_ret_df = mean_ret.compute()\n",
    "    mean_ret_df.to_csv(config[\"files\"][\"results\"][signal][\"mean_trade_returns\"].format(\"_\".join([market,signal])))\n"
   ]
  },
  {
   "cell_type": "code",
   "execution_count": null,
   "id": "94ae85e0",
   "metadata": {},
   "outputs": [],
   "source": [
    "extract_ret_and_price(\"NL\",\"trade\")"
   ]
  }
 ],
 "metadata": {
  "kernelspec": {
   "display_name": "Python 3 (ipykernel)",
   "language": "python",
   "name": "python3"
  },
  "language_info": {
   "codemirror_mode": {
    "name": "ipython",
    "version": 3
   },
   "file_extension": ".py",
   "mimetype": "text/x-python",
   "name": "python",
   "nbconvert_exporter": "python",
   "pygments_lexer": "ipython3",
   "version": "3.9.7"
  }
 },
 "nbformat": 4,
 "nbformat_minor": 5
}
