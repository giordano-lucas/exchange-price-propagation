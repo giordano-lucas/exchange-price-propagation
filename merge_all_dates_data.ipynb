{
 "cells": [
  {
   "cell_type": "code",
   "execution_count": null,
   "metadata": {},
   "outputs": [],
   "source": [
    "import re\n",
    "import glob\n",
    "import csv\n",
    "from helpers import config\n",
    "from helpers.loading import load_daily_data, file_exist, get_all_dates\n",
    "from helpers.delay import generate_delayed_data\n",
    "import pandas as pd\n",
    "import time\n",
    "%load_ext autoreload\n",
    "%autoreload 2\n"
   ]
  },
  {
   "cell_type": "code",
   "execution_count": null,
   "metadata": {},
   "outputs": [],
   "source": [
    "all_dates = get_all_dates(config[\"stock\"])\n",
    "print(f\"{len(all_dates)} dates to process\")\n"
   ]
  },
  {
   "cell_type": "code",
   "execution_count": null,
   "metadata": {},
   "outputs": [],
   "source": [
    "fieldnames = ['date', 'market1', 'market2', \"lag\"]\n",
    "preprocessing_steps = ['numeric']\n",
    "\n",
    "# file where to write the computed lags\n",
    "results_path = config[\"files\"][\"results\"][\"all_best_lags\"].format(\n",
    "    \"_\".join(preprocessing_steps))\n",
    "\n",
    "result_file_exists = file_exist(results_path)\n",
    "csvfile = open(results_path, 'a', newline='')\n",
    "writer = csv.DictWriter(csvfile, fieldnames=fieldnames)\n",
    "\n",
    "if result_file_exists:\n",
    "    processed_dates = set(pd.read_csv(results_path).date.unique())\n",
    "else:\n",
    "    # if the file is new, we need to write headers\n",
    "    writer.writeheader()\n",
    "    processed_dates = set()\n",
    "\n",
    "\n",
    "max_iterations = 5000\n",
    "start_time = time.time()\n",
    "date_count = 0  # number of dates processed\n",
    "for date_id, date in enumerate(all_dates[::1]):\n",
    "    print(\n",
    "        f\"date:{date}, {date_id}:{len(all_dates)}, {100*date_id/len(all_dates):0.3f}%\", end=\"\\r\")\n",
    "\n",
    "    daily_data = load_daily_data(date, preprocessing_steps=preprocessing_steps)\n",
    "    if not daily_data:\n",
    "        # in case all markets do not provide data for the given date, we skip the date\n",
    "        continue\n",
    "\n",
    "    # we skip the current date if it has already been processed\n",
    "    if date in processed_dates:\n",
    "        continue\n",
    "\n",
    "    for i, n1 in enumerate(daily_data):\n",
    "        for j, n2 in enumerate(daily_data):\n",
    "            # avoid symetric (corr(a,b)=corr(b,a)) and meaningless (corr(a,a)=1) calculations\n",
    "            if i > j:\n",
    "                best_delay, delays, correlations, los, his = find_best_delay(\n",
    "                    daily_data, n1, n2, step_size=1000)\n",
    "                # write the computed result\n",
    "                writer.writerow({'date': date, 'market1': n1,\n",
    "                                'market2': n2, 'lag': best_delay})\n",
    "                writer.writerow({'date': date, 'market1': n2,\n",
    "                                'market2': n1, 'lag': -best_delay})\n",
    "    csvfile.flush()  # flush every time we processed a date\n",
    "    date_count += 1\n",
    "    if date_count >= max_iterations:\n",
    "        break\n",
    "print()\n",
    "print(f\"{date_count} dates processed in {time.time()-start_time:0.2f}s\")\n",
    "csvfile.close()\n"
   ]
  }
 ],
 "metadata": {
  "interpreter": {
   "hash": "1f10413af5117f07b698d7d8ae01196f75f71a4510dbf36f38ba232b2f946129"
  },
  "kernelspec": {
   "display_name": "Python 3.9.9 64-bit ('ml4f': conda)",
   "language": "python",
   "name": "python3"
  },
  "language_info": {
   "codemirror_mode": {
    "name": "ipython",
    "version": 3
   },
   "file_extension": ".py",
   "mimetype": "text/x-python",
   "name": "python",
   "nbconvert_exporter": "python",
   "pygments_lexer": "ipython3",
   "version": "3.9.9"
  }
 },
 "nbformat": 4,
 "nbformat_minor": 2
}
