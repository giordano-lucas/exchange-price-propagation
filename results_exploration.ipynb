{
 "cells": [
  {
   "cell_type": "code",
   "execution_count": null,
   "id": "2a93e693",
   "metadata": {},
   "outputs": [],
   "source": [
    "import pandas as pd\n",
    "from helpers import config\n",
    "import plotly.express as px"
   ]
  },
  {
   "cell_type": "markdown",
   "id": "4c5004af",
   "metadata": {},
   "source": [
    "# Loading results"
   ]
  },
  {
   "cell_type": "code",
   "execution_count": null,
   "id": "6e99f031",
   "metadata": {},
   "outputs": [],
   "source": [
    "best_lags = pd.read_csv(config[\"files\"][\"results\"][\"all_best_lags\"])"
   ]
  },
  {
   "cell_type": "markdown",
   "id": "b5ebcdd2",
   "metadata": {},
   "source": [
    "# Plotting lags"
   ]
  },
  {
   "cell_type": "code",
   "execution_count": null,
   "id": "bbe208ee",
   "metadata": {},
   "outputs": [],
   "source": [
    "def get_pair_lags(df,m1,m2):\n",
    "    return df[(df.market1==m1) * (df.market2==m2)]\n",
    "\n",
    "def plot_pair_lags(df,m1,m2):\n",
    "    fig = px.line(get_pair_lags(best_lags,m1,m2), x=\"date\", y=\"lag\", title=f\"lags vs date between {m1}/{m2}\")\n",
    "    fig.show()\n",
    "       \n",
    "def plot_all_pairs(df):\n",
    "    to_plot = df.copy()\n",
    "    to_plot[\"pair\"] = to_plot[\"market1\"]+\"_\"+to_plot[\"market2\"]\n",
    "    to_keep = to_plot[[\"lag\",\"pair\"]].groupby(\"pair\").mean()>0#.set_index(\"pair\")\n",
    "    to_keep = to_keep[to_keep.lag].rename(columns={\"lag\":\"lag+\"})\n",
    "    to_plot = to_plot.set_index(\"pair\").join(to_keep,how=\"inner\").reset_index()\n",
    "    fig = px.line(to_plot, x=\"date\", y=\"lag\",color=\"pair\", title=f\"lags vs date (all pairs)\",log_y=False)\n",
    "    fig.show()"
   ]
  },
  {
   "cell_type": "code",
   "execution_count": null,
   "id": "87245ec9",
   "metadata": {},
   "outputs": [],
   "source": [
    "\n",
    "plot_all_pairs(best_lags[(best_lags.market1!=\"MW\")*(best_lags.market2!=\"MW\")])"
   ]
  },
  {
   "cell_type": "markdown",
   "id": "1b059cef",
   "metadata": {},
   "source": [
    "# Geographical relations"
   ]
  },
  {
   "cell_type": "markdown",
   "id": "8a7a485d",
   "metadata": {},
   "source": [
    "### loading geographical informations"
   ]
  },
  {
   "cell_type": "code",
   "execution_count": null,
   "id": "a9bb84c0",
   "metadata": {},
   "outputs": [],
   "source": [
    "\n",
    "exchanges_country_suffixes_df = pd.read_csv(config[\"files\"][\"exchanges_country_suffixes\"])\n",
    "exchanges_country_suffixes_df[\"Exchange ID\"] = exchanges_country_suffixes_df[\"Exchange ID\"].apply(lambda x : str(x).replace(\".\",\"\"))\n",
    "\n",
    "exchanges_country_suffixes_dict = exchanges_country_suffixes_df[[\"Exchange ID\",\"Exchange Name\"]].set_index(\"Exchange ID\").to_dict()['Exchange Name']"
   ]
  },
  {
   "cell_type": "code",
   "execution_count": null,
   "id": "4235449b",
   "metadata": {},
   "outputs": [],
   "source": [
    "regions_vs_mean_lag = best_lags[['market1', 'market2', 'lag']].groupby(['market1', 'market2']).mean().reset_index()"
   ]
  },
  {
   "cell_type": "code",
   "execution_count": null,
   "id": "739349d9",
   "metadata": {},
   "outputs": [],
   "source": [
    "regions_vs_mean_lag[\"region1\"] = regions_vs_mean_lag[\"market1\"].apply(lambda x : exchanges_country_suffixes_dict[x]) \n",
    "regions_vs_mean_lag[\"region2\"] = regions_vs_mean_lag[\"market2\"].apply(lambda x : exchanges_country_suffixes_dict[x]) "
   ]
  },
  {
   "cell_type": "code",
   "execution_count": null,
   "id": "5806e3da",
   "metadata": {},
   "outputs": [],
   "source": [
    "fig = px.line(to_plot[::2], x=\"date\", y=\"lag\",color=\"pair\", title=f\"lags vs date (all pairs)\")\n"
   ]
  }
 ],
 "metadata": {
  "kernelspec": {
   "display_name": "Python 3 (ipykernel)",
   "language": "python",
   "name": "python3"
  },
  "language_info": {
   "codemirror_mode": {
    "name": "ipython",
    "version": 3
   },
   "file_extension": ".py",
   "mimetype": "text/x-python",
   "name": "python",
   "nbconvert_exporter": "python",
   "pygments_lexer": "ipython3",
   "version": "3.9.7"
  }
 },
 "nbformat": 4,
 "nbformat_minor": 5
}
