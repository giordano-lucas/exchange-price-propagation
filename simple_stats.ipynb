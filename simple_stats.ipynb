{
 "cells": [
  {
   "cell_type": "code",
   "execution_count": 1,
   "id": "5872f0d7",
   "metadata": {},
   "outputs": [],
   "source": [
    "import dask\n",
    "from helpers.loading import *\n",
    "from helpers import config\n"
   ]
  },
  {
   "cell_type": "code",
   "execution_count": 2,
   "id": "b6a09764",
   "metadata": {},
   "outputs": [],
   "source": [
    "all_data_bbo = {}\n",
    "for market in config[\"transatlantic\"][\"markets\"][\"list\"]:\n",
    "    all_data_bbo[market] = load_all_data_dask(market, signal=\"bbo\", precision=\"D\",cols=[\"date\",\"price\",\"bid-price\",\"ask-price\"])\n",
    "\n",
    "all_data_trade = {}\n",
    "for market in config[\"transatlantic\"][\"markets\"][\"list\"]:\n",
    "    all_data_trade[market] = load_all_data_dask(market,precision=\"ms\")"
   ]
  },
  {
   "cell_type": "code",
   "execution_count": 36,
   "id": "50e31ec5",
   "metadata": {},
   "outputs": [
    {
     "data": {
      "text/html": [
       "<div>\n",
       "<style scoped>\n",
       "    .dataframe tbody tr th:only-of-type {\n",
       "        vertical-align: middle;\n",
       "    }\n",
       "\n",
       "    .dataframe tbody tr th {\n",
       "        vertical-align: top;\n",
       "    }\n",
       "\n",
       "    .dataframe thead th {\n",
       "        text-align: right;\n",
       "    }\n",
       "</style>\n",
       "<table border=\"1\" class=\"dataframe\">\n",
       "  <thead>\n",
       "    <tr style=\"text-align: right;\">\n",
       "      <th></th>\n",
       "      <th>date</th>\n",
       "      <th>price</th>\n",
       "    </tr>\n",
       "  </thead>\n",
       "  <tbody>\n",
       "    <tr>\n",
       "      <th>0</th>\n",
       "      <td>2005-07-15 06:54:05.498000+00:00</td>\n",
       "      <td>1848.0</td>\n",
       "    </tr>\n",
       "    <tr>\n",
       "      <th>1</th>\n",
       "      <td>2005-07-15 06:58:22.561000+00:00</td>\n",
       "      <td>1847.0</td>\n",
       "    </tr>\n",
       "    <tr>\n",
       "      <th>2</th>\n",
       "      <td>2005-07-15 06:58:28.643000+00:00</td>\n",
       "      <td>1840.0</td>\n",
       "    </tr>\n",
       "    <tr>\n",
       "      <th>3</th>\n",
       "      <td>2005-07-15 07:02:04.928000+00:00</td>\n",
       "      <td>1840.0</td>\n",
       "    </tr>\n",
       "    <tr>\n",
       "      <th>4</th>\n",
       "      <td>2005-07-15 07:02:05.409000+00:00</td>\n",
       "      <td>1840.0</td>\n",
       "    </tr>\n",
       "  </tbody>\n",
       "</table>\n",
       "</div>"
      ],
      "text/plain": [
       "                              date   price\n",
       "0 2005-07-15 06:54:05.498000+00:00  1848.0\n",
       "1 2005-07-15 06:58:22.561000+00:00  1847.0\n",
       "2 2005-07-15 06:58:28.643000+00:00  1840.0\n",
       "3 2005-07-15 07:02:04.928000+00:00  1840.0\n",
       "4 2005-07-15 07:02:05.409000+00:00  1840.0"
      ]
     },
     "execution_count": 36,
     "metadata": {},
     "output_type": "execute_result"
    }
   ],
   "source": [
    "all_trades = dd.concat(list(all_data_trade.values()))\n",
    "all_trades.head()"
   ]
  },
  {
   "cell_type": "markdown",
   "id": "24ae3af2",
   "metadata": {},
   "source": [
    "### Daily number of trades"
   ]
  },
  {
   "cell_type": "code",
   "execution_count": 37,
   "id": "8b873c0d",
   "metadata": {},
   "outputs": [],
   "source": [
    "daily_trades = all_trades.copy()\n",
    "daily_trades[\"date\"] = daily_trades[\"date\"].round(\"D\")\n",
    "n_daily_trade_avg = daily_trades.groupby(\"date\").count().mean().compute()"
   ]
  },
  {
   "cell_type": "code",
   "execution_count": 38,
   "id": "e009b8f2",
   "metadata": {},
   "outputs": [
    {
     "name": "stdout",
     "output_type": "stream",
     "text": [
      " there was 16277.0 trades per day on average\n"
     ]
    }
   ],
   "source": [
    "print(f\" there was {n_daily_trade_avg.price:0.1f} trades per day on average\")"
   ]
  },
  {
   "cell_type": "markdown",
   "id": "b90a7966",
   "metadata": {},
   "source": [
    "### Average period between trades "
   ]
  },
  {
   "cell_type": "code",
   "execution_count": 56,
   "id": "e5231721",
   "metadata": {},
   "outputs": [],
   "source": [
    "all_periods = all_trades.reset_index().date.diff(1).dropna()\n",
    "all_periods < all_periods[pd.Timedelta(1, \"h\")]\n",
    "mean_period = all_periods.mean().compute()"
   ]
  },
  {
   "cell_type": "code",
   "execution_count": 60,
   "id": "921c781d",
   "metadata": {},
   "outputs": [
    {
     "name": "stdout",
     "output_type": "stream",
     "text": [
      "there are 6.26s on average between two trades\n"
     ]
    }
   ],
   "source": [
    "print(f\"there are {mean_period.total_seconds():0.2f}s on average between two trades\")"
   ]
  },
  {
   "cell_type": "markdown",
   "id": "2d2aa85d",
   "metadata": {},
   "source": [
    "### Average bid-ask spread "
   ]
  },
  {
   "cell_type": "code",
   "execution_count": 4,
   "id": "a75beda9",
   "metadata": {},
   "outputs": [
    {
     "data": {
      "text/html": [
       "<div>\n",
       "<style scoped>\n",
       "    .dataframe tbody tr th:only-of-type {\n",
       "        vertical-align: middle;\n",
       "    }\n",
       "\n",
       "    .dataframe tbody tr th {\n",
       "        vertical-align: top;\n",
       "    }\n",
       "\n",
       "    .dataframe thead th {\n",
       "        text-align: right;\n",
       "    }\n",
       "</style>\n",
       "<table border=\"1\" class=\"dataframe\">\n",
       "  <thead>\n",
       "    <tr style=\"text-align: right;\">\n",
       "      <th></th>\n",
       "      <th>date</th>\n",
       "      <th>bid-price</th>\n",
       "      <th>ask-price</th>\n",
       "      <th>price</th>\n",
       "    </tr>\n",
       "  </thead>\n",
       "  <tbody>\n",
       "    <tr>\n",
       "      <th>4</th>\n",
       "      <td>2005-07-15 00:00:00+00:00</td>\n",
       "      <td>1830.0</td>\n",
       "      <td>1850.0</td>\n",
       "      <td>1840.0</td>\n",
       "    </tr>\n",
       "    <tr>\n",
       "      <th>5</th>\n",
       "      <td>2005-07-15 00:00:00+00:00</td>\n",
       "      <td>1830.0</td>\n",
       "      <td>1848.0</td>\n",
       "      <td>1839.0</td>\n",
       "    </tr>\n",
       "    <tr>\n",
       "      <th>6</th>\n",
       "      <td>2005-07-15 00:00:00+00:00</td>\n",
       "      <td>1850.0</td>\n",
       "      <td>1848.0</td>\n",
       "      <td>1849.0</td>\n",
       "    </tr>\n",
       "    <tr>\n",
       "      <th>7</th>\n",
       "      <td>2005-07-15 00:00:00+00:00</td>\n",
       "      <td>1830.0</td>\n",
       "      <td>1848.0</td>\n",
       "      <td>1839.0</td>\n",
       "    </tr>\n",
       "    <tr>\n",
       "      <th>8</th>\n",
       "      <td>2005-07-15 00:00:00+00:00</td>\n",
       "      <td>1832.0</td>\n",
       "      <td>1848.0</td>\n",
       "      <td>1840.0</td>\n",
       "    </tr>\n",
       "  </tbody>\n",
       "</table>\n",
       "</div>"
      ],
      "text/plain": [
       "                       date  bid-price  ask-price   price\n",
       "4 2005-07-15 00:00:00+00:00     1830.0     1850.0  1840.0\n",
       "5 2005-07-15 00:00:00+00:00     1830.0     1848.0  1839.0\n",
       "6 2005-07-15 00:00:00+00:00     1850.0     1848.0  1849.0\n",
       "7 2005-07-15 00:00:00+00:00     1830.0     1848.0  1839.0\n",
       "8 2005-07-15 00:00:00+00:00     1832.0     1848.0  1840.0"
      ]
     },
     "execution_count": 4,
     "metadata": {},
     "output_type": "execute_result"
    }
   ],
   "source": [
    "bbo_df = dd.concat(list(all_data_bbo.values()))\n",
    "bbo_df.head()"
   ]
  },
  {
   "cell_type": "code",
   "execution_count": 6,
   "id": "d51ea6b0",
   "metadata": {},
   "outputs": [],
   "source": [
    "bbo_df[\"spread\"] = bbo_df[\"bid-price\"]-bbo_df[\"ask-price\"]\n",
    "mean_spread = bbo_df.spread.mean().compute()"
   ]
  },
  {
   "cell_type": "code",
   "execution_count": null,
   "id": "ce3797f0",
   "metadata": {},
   "outputs": [],
   "source": [
    "print(f)"
   ]
  }
 ],
 "metadata": {
  "kernelspec": {
   "display_name": "Python 3 (ipykernel)",
   "language": "python",
   "name": "python3"
  },
  "language_info": {
   "codemirror_mode": {
    "name": "ipython",
    "version": 3
   },
   "file_extension": ".py",
   "mimetype": "text/x-python",
   "name": "python",
   "nbconvert_exporter": "python",
   "pygments_lexer": "ipython3",
   "version": "3.9.7"
  }
 },
 "nbformat": 4,
 "nbformat_minor": 5
}
