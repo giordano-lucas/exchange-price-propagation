{
 "cells": [
  {
   "cell_type": "code",
   "execution_count": null,
   "id": "5872f0d7",
   "metadata": {},
   "outputs": [],
   "source": [
    "import dask\n",
    "from helpers.loading import *\n",
    "from helpers import config\n"
   ]
  },
  {
   "cell_type": "code",
   "execution_count": null,
   "id": "b6a09764",
   "metadata": {},
   "outputs": [],
   "source": [
    "all_data_bbo = {}\n",
    "for market in config[\"transatlantic\"][\"markets\"][\"list\"]:\n",
    "    all_data_bbo[market] = load_all_data_dask(market, signal=\"bbo\", precision=\"D\",cols=[\"date\",\"price\",\"bid-price\",\"ask-price\"])\n",
    "\n",
    "all_data_trade = {}\n",
    "for market in config[\"transatlantic\"][\"markets\"][\"list\"]:\n",
    "    all_data_trade[market] = load_all_data_dask(market,precision=\"ms\")"
   ]
  },
  {
   "cell_type": "code",
   "execution_count": null,
   "id": "50e31ec5",
   "metadata": {},
   "outputs": [],
   "source": [
    "all_trades = dd.concat(list(all_data_trade.values()))\n",
    "all_trades.head()"
   ]
  },
  {
   "cell_type": "markdown",
   "id": "24ae3af2",
   "metadata": {},
   "source": [
    "### Daily number of trades"
   ]
  },
  {
   "cell_type": "code",
   "execution_count": null,
   "id": "8b873c0d",
   "metadata": {},
   "outputs": [],
   "source": [
    "daily_trades = all_trades.copy()\n",
    "daily_trades[\"date\"] = daily_trades[\"date\"].round(\"D\")\n",
    "n_daily_trade_avg = daily_trades.groupby(\"date\").count().mean().compute()"
   ]
  },
  {
   "cell_type": "code",
   "execution_count": null,
   "id": "e009b8f2",
   "metadata": {},
   "outputs": [],
   "source": [
    "print(f\" there was {n_daily_trade_avg.price:0.1f} trades per day on average\")"
   ]
  },
  {
   "cell_type": "markdown",
   "id": "b90a7966",
   "metadata": {},
   "source": [
    "### Average period between trades "
   ]
  },
  {
   "cell_type": "code",
   "execution_count": null,
   "id": "e5231721",
   "metadata": {},
   "outputs": [],
   "source": [
    "all_periods = all_trades.reset_index().date.diff(1).dropna()\n",
    "all_periods < all_periods[pd.Timedelta(1, \"h\")]\n",
    "mean_period = all_periods.mean().compute()"
   ]
  },
  {
   "cell_type": "code",
   "execution_count": null,
   "id": "921c781d",
   "metadata": {},
   "outputs": [],
   "source": [
    "print(f\"there are {mean_period.total_seconds():0.2f}s on average between two trades\")"
   ]
  },
  {
   "cell_type": "markdown",
   "id": "2d2aa85d",
   "metadata": {},
   "source": [
    "### Average bid-ask spread "
   ]
  },
  {
   "cell_type": "code",
   "execution_count": null,
   "id": "a75beda9",
   "metadata": {},
   "outputs": [],
   "source": [
    "bbo_df = dd.concat(list(all_data_bbo.values()))\n",
    "bbo_df.head()"
   ]
  },
  {
   "cell_type": "code",
   "execution_count": null,
   "id": "d51ea6b0",
   "metadata": {},
   "outputs": [],
   "source": [
    "bbo_df[\"spread\"] = bbo_df[\"bid-price\"]-bbo_df[\"ask-price\"]"
   ]
  },
  {
   "cell_type": "code",
   "execution_count": null,
   "id": "808f6400",
   "metadata": {},
   "outputs": [],
   "source": [
    "bbo_df[\"spread_ratio\"] =  bbo_df[\"spread\"].abs()/bbo_df[\"price\"]*100\n",
    "mean_spread = bbo_df.spread_ratio.mean().compute()"
   ]
  },
  {
   "cell_type": "code",
   "execution_count": null,
   "id": "ce3797f0",
   "metadata": {},
   "outputs": [],
   "source": [
    "print(f\"The bid ask spread represents {mean_spread:0.2f}% of the mid price, in average\")"
   ]
  },
  {
   "cell_type": "code",
   "execution_count": null,
   "id": "a2a3dcc0",
   "metadata": {},
   "outputs": [],
   "source": []
  }
 ],
 "metadata": {
  "kernelspec": {
   "display_name": "Python 3 (ipykernel)",
   "language": "python",
   "name": "python3"
  },
  "language_info": {
   "codemirror_mode": {
    "name": "ipython",
    "version": 3
   },
   "file_extension": ".py",
   "mimetype": "text/x-python",
   "name": "python",
   "nbconvert_exporter": "python",
   "pygments_lexer": "ipython3",
   "version": "3.9.7"
  }
 },
 "nbformat": 4,
 "nbformat_minor": 5
}
