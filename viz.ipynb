{
 "cells": [
  {
   "cell_type": "code",
   "execution_count": null,
   "metadata": {},
   "outputs": [],
   "source": [
    "#!pip install plotly\n",
    "#!pip install ipywidgets\n",
    "#!pip install bqplot ipyvuetify voila-vuetify"
   ]
  },
  {
   "cell_type": "code",
   "execution_count": null,
   "metadata": {},
   "outputs": [],
   "source": [
    "import plotly.graph_objects as go\n",
    "import plotly.express as px"
   ]
  },
  {
   "cell_type": "code",
   "execution_count": null,
   "metadata": {},
   "outputs": [],
   "source": [
    "import pandas as pd\n",
    "df = pd.read_csv(\n",
    "    'results/lags_numeric_log_returns.csv').drop(columns=['Unnamed: 0'])\n",
    "df.date = pd.to_datetime(df.date)\n",
    "df = df.set_index(['market1', 'market2', 'date']).sort_index()\n"
   ]
  },
  {
   "cell_type": "code",
   "execution_count": null,
   "metadata": {},
   "outputs": [],
   "source": []
  },
  {
   "cell_type": "code",
   "execution_count": null,
   "metadata": {},
   "outputs": [],
   "source": [
    "\n",
    "def massage_df(frequency, window, markets):\n",
    "    sub_df = df.loc[markets].sort_index()\n",
    "    threshold = sub_df.lag.abs().quantile(0.975)\n",
    "    massaged_df = (sub_df.query('lag.abs() < @threshold')\n",
    "               .resample(frequency)\n",
    "               .ffill()\n",
    "               .rolling(window, min_periods=1)\n",
    "               .mean()\n",
    "               )\n",
    "    return massaged_df.reset_index()\n",
    "\n",
    "\n",
    "def concat_df(frequency, window, markets):\n",
    "    massaged_df = None\n",
    "    for m in markets:\n",
    "        a = massage_df(frequency, window, m)\n",
    "        a['markets'] = \" & \".join(list(m))\n",
    "        if massaged_df is None:\n",
    "            massaged_df = a\n",
    "        else:\n",
    "            massaged_df = pd.concat((massaged_df, a), axis=0)\n",
    "    return massaged_df\n",
    "\n",
    "def plot_corr(frequency, window, markets):\n",
    "    if not window or not frequency or not markets:\n",
    "        return\n",
    "   \n",
    "    fig = px.line(concat_df(frequency, window, markets), x='date', y='lag',\n",
    "                  title='Rolling Lag', color='markets')\n",
    "    #fig.update_yaxes(range=(-1,1))\n",
    "    fig.update_xaxes(\n",
    "        rangeslider_visible=True,\n",
    "        rangeselector=dict(\n",
    "            buttons=list([\n",
    "                dict(count=1, label=\"1m\", step=\"month\", stepmode=\"backward\"),\n",
    "                dict(count=6, label=\"6m\", step=\"month\", stepmode=\"backward\"),\n",
    "                dict(count=1, label=\"YTD\", step=\"year\", stepmode=\"todate\"),\n",
    "                dict(count=1, label=\"1y\", step=\"year\", stepmode=\"backward\"),\n",
    "                dict(step=\"all\")\n",
    "            ])\n",
    "        )\n",
    "    )\n",
    "    fig.show()\n",
    "\n",
    "#plot_corr('D', 10)"
   ]
  },
  {
   "cell_type": "code",
   "execution_count": null,
   "metadata": {},
   "outputs": [],
   "source": [
    "from ipywidgets import link,interactive, widgets, interact,Layout\n",
    "config = {\n",
    "    'layout': Layout(width='80%', height='80px'),\n",
    "    'style': {'description_width': 'initial'}\n",
    "}"
   ]
  },
  {
   "cell_type": "markdown",
   "metadata": {},
   "source": [
    "# Interactive visualisation\n",
    "\n",
    "<div class=\"alert alert-block alert-info\">\n",
    "    <b>Tip: use the widgets below to interact with the visualisation</b>\n",
    "</div>\n"
   ]
  },
  {
   "cell_type": "code",
   "execution_count": null,
   "metadata": {},
   "outputs": [],
   "source": [
    "import plotly.io as pio\n",
    "pio.renderers.default = 'notebook_connected'\n",
    "frequency_selector = widgets.ToggleButtons(\n",
    "    options=[('daily','D'), ('weekly',  'W'), ('monthly','30d')],\n",
    "    value='D',\n",
    "    description='Sample frequency:',\n",
    "    disabled=False,\n",
    "    button_style='', # 'success', 'info', 'warning', 'danger' or ''\n",
    "    tooltips=['Description of slow', 'Description of regular', 'Description of fast'],\n",
    "    # icons=['check'] * 3\n",
    "    **config,\n",
    ")\n",
    "\n",
    "markets_selector = widgets.ToggleButtons(\n",
    "    options=[('all', [('NL', 'US'), ('GB', 'US',), ('NL', 'GB')]), ('US & NL', [('NL', 'US')]),\n",
    "             ('US & GB',  [('GB', 'US')]), ('NL & GB', [('NL', 'GB')])],\n",
    "    value=[('NL', 'US')],\n",
    "    description='Markets:',\n",
    "    disabled=False,\n",
    "    button_style='',  # 'success', 'info', 'warning', 'danger' or ''\n",
    "    tooltips=['Description of slow',\n",
    "              'Description of regular', 'Description of fast'],\n",
    "    # icons=['check'] * 3\n",
    "    **config,\n",
    ")\n",
    "\n",
    "\n",
    "window_selector = widgets.IntSlider(\n",
    "    value=10,\n",
    "    min=1,\n",
    "    max=30,\n",
    "    step=1,\n",
    "    description='Rolling window:',\n",
    "    disabled=False,\n",
    "    continuous_update=False,\n",
    "    orientation='horizontal',\n",
    "    readout=True,\n",
    "    readout_format='d',\n",
    "    **config,\n",
    ")\n",
    "\n",
    "_ = interact(plot_corr, frequency=frequency_selector,\n",
    "             window=window_selector, markets=markets_selector)\n"
   ]
  }
 ],
 "metadata": {
  "interpreter": {
   "hash": "31f2aee4e71d21fbe5cf8b01ff0e069b9275f58929596ceb00d14d90e3e16cd6"
  },
  "kernelspec": {
   "display_name": "Python 3 (ipykernel)",
   "language": "python",
   "name": "python3"
  },
  "language_info": {
   "codemirror_mode": {
    "name": "ipython",
    "version": 3
   },
   "file_extension": ".py",
   "mimetype": "text/x-python",
   "name": "python",
   "nbconvert_exporter": "python",
   "pygments_lexer": "ipython3",
   "version": "3.9.9"
  },
  "toc": {
   "base_numbering": 1,
   "nav_menu": {},
   "number_sections": true,
   "sideBar": true,
   "skip_h1_title": false,
   "title_cell": "Table of Contents",
   "title_sidebar": "Contents",
   "toc_cell": false,
   "toc_position": {},
   "toc_section_display": true,
   "toc_window_display": false
  }
 },
 "nbformat": 4,
 "nbformat_minor": 2
}
