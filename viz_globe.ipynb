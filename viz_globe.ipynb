{
 "cells": [
  {
   "cell_type": "code",
   "execution_count": null,
   "metadata": {},
   "outputs": [],
   "source": [
    "from helpers import config\n",
    "import pandas as pd\n",
    "import geopandas\n",
    "cities = pd.read_csv(f\"data/city/worldcities.csv\")\n",
    "market_cities = set([1840034016,1826645935,1528355309]) #New York, Amesterdam, London\n",
    "cities.head()"
   ]
  },
  {
   "cell_type": "code",
   "execution_count": null,
   "metadata": {},
   "outputs": [],
   "source": [
    "sub_cities = cities.query(\n",
    "    'id in @market_cities')[['city', 'lat', 'lng', 'iso3']]\n",
    "gdf = geopandas.GeoDataFrame(\n",
    "    sub_cities[['city', 'iso3']], geometry=geopandas.points_from_xy(sub_cities.lng, sub_cities.lat))\n",
    "gdf = pd.concat((gdf, gdf.query(\"city == 'New York'\")),axis=0)\n",
    "gdf.head()"
   ]
  },
  {
   "cell_type": "code",
   "execution_count": null,
   "metadata": {},
   "outputs": [],
   "source": [
    "import plotly.express as px\n",
    "\n",
    "fig = px.line_geo(gdf, locations='iso3',\n",
    "                    # \"continent\" is one of the columns of gapminder\n",
    "                  projection=\"orthographic\")\n",
    "fig.show()\n"
   ]
  },
  {
   "cell_type": "code",
   "execution_count": null,
   "metadata": {},
   "outputs": [],
   "source": [
    "df = px.data.gapminder().query(\"year == 2007 and iso_alpha == 'TUN'\")\n"
   ]
  },
  {
   "cell_type": "code",
   "execution_count": null,
   "metadata": {},
   "outputs": [],
   "source": [
    "df"
   ]
  },
  {
   "cell_type": "code",
   "execution_count": null,
   "metadata": {},
   "outputs": [],
   "source": []
  }
 ],
 "metadata": {
  "interpreter": {
   "hash": "1f10413af5117f07b698d7d8ae01196f75f71a4510dbf36f38ba232b2f946129"
  },
  "kernelspec": {
   "display_name": "Python 3.9.9 64-bit ('ml4f': conda)",
   "language": "python",
   "name": "python3"
  },
  "language_info": {
   "codemirror_mode": {
    "name": "ipython",
    "version": 3
   },
   "file_extension": ".py",
   "mimetype": "text/x-python",
   "name": "python",
   "nbconvert_exporter": "python",
   "pygments_lexer": "ipython3",
   "version": "3.9.9"
  }
 },
 "nbformat": 4,
 "nbformat_minor": 2
}
